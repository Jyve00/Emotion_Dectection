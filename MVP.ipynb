{
 "cells": [
  {
   "cell_type": "markdown",
   "metadata": {},
   "source": [
    "# Speech Recognition with Delta-Delta's \n",
    "This model will convert recorded speech data into Mel-Spectrogram and then to Delta and finally the Delta-Delta's. \n"
   ]
  },
  {
   "cell_type": "code",
   "execution_count": 635,
   "metadata": {},
   "outputs": [],
   "source": [
    "import pandas as pd \n",
    "import numpy as np\n",
    "import math\n",
    "import matplotlib.pyplot as plt\n",
    "import seaborn as sns\n",
    "import librosa \n",
    "import librosa.display \n",
    "import IPython.display as ipd\n",
    "\n",
    "\n",
    "from sklearn.preprocessing import StandardScaler, OneHotEncoder\n",
    "from sklearn.metrics import confusion_matrix, classification_report\n",
    "from sklearn.model_selection import train_test_split"
   ]
  },
  {
   "cell_type": "markdown",
   "metadata": {},
   "source": [
    "# Organizing Data \n",
    "loading in a CSV that was created in EDA https://github.com/Jyve00/Emotion_Dectection/blob/main/EDA.ipynb"
   ]
  },
  {
   "cell_type": "code",
   "execution_count": 636,
   "metadata": {},
   "outputs": [
    {
     "data": {
      "text/html": [
       "<div>\n",
       "<style scoped>\n",
       "    .dataframe tbody tr th:only-of-type {\n",
       "        vertical-align: middle;\n",
       "    }\n",
       "\n",
       "    .dataframe tbody tr th {\n",
       "        vertical-align: top;\n",
       "    }\n",
       "\n",
       "    .dataframe thead th {\n",
       "        text-align: right;\n",
       "    }\n",
       "</style>\n",
       "<table border=\"1\" class=\"dataframe\">\n",
       "  <thead>\n",
       "    <tr style=\"text-align: right;\">\n",
       "      <th></th>\n",
       "      <th>modality</th>\n",
       "      <th>vocal_channel</th>\n",
       "      <th>emotion</th>\n",
       "      <th>emotional_intensity</th>\n",
       "      <th>statement</th>\n",
       "      <th>repetition</th>\n",
       "      <th>actor</th>\n",
       "      <th>actor_sex</th>\n",
       "    </tr>\n",
       "  </thead>\n",
       "  <tbody>\n",
       "    <tr>\n",
       "      <th>/Users/stephen/Emotion_Dectection/data/RAVDESS/Audio_Speech_Actors_01-24/Actor_01/03-01-08-02-02-01-01.wav</th>\n",
       "      <td>audio_only</td>\n",
       "      <td>speech</td>\n",
       "      <td>surprised</td>\n",
       "      <td>strong</td>\n",
       "      <td>Dogs are sitting by the door</td>\n",
       "      <td>first_repitition</td>\n",
       "      <td>1</td>\n",
       "      <td>male</td>\n",
       "    </tr>\n",
       "    <tr>\n",
       "      <th>/Users/stephen/Emotion_Dectection/data/RAVDESS/Audio_Speech_Actors_01-24/Actor_01/03-01-08-01-01-01-01.wav</th>\n",
       "      <td>audio_only</td>\n",
       "      <td>speech</td>\n",
       "      <td>surprised</td>\n",
       "      <td>normal</td>\n",
       "      <td>Kids are talking by the door</td>\n",
       "      <td>first_repitition</td>\n",
       "      <td>1</td>\n",
       "      <td>male</td>\n",
       "    </tr>\n",
       "    <tr>\n",
       "      <th>/Users/stephen/Emotion_Dectection/data/RAVDESS/Audio_Speech_Actors_01-24/Actor_01/03-01-05-01-02-01-01.wav</th>\n",
       "      <td>audio_only</td>\n",
       "      <td>speech</td>\n",
       "      <td>angry</td>\n",
       "      <td>normal</td>\n",
       "      <td>Dogs are sitting by the door</td>\n",
       "      <td>first_repitition</td>\n",
       "      <td>1</td>\n",
       "      <td>male</td>\n",
       "    </tr>\n",
       "    <tr>\n",
       "      <th>/Users/stephen/Emotion_Dectection/data/RAVDESS/Audio_Speech_Actors_01-24/Actor_01/03-01-06-01-02-02-01.wav</th>\n",
       "      <td>audio_only</td>\n",
       "      <td>speech</td>\n",
       "      <td>fearful</td>\n",
       "      <td>normal</td>\n",
       "      <td>Dogs are sitting by the door</td>\n",
       "      <td>second_repetition</td>\n",
       "      <td>1</td>\n",
       "      <td>male</td>\n",
       "    </tr>\n",
       "    <tr>\n",
       "      <th>/Users/stephen/Emotion_Dectection/data/RAVDESS/Audio_Speech_Actors_01-24/Actor_01/03-01-06-02-01-02-01.wav</th>\n",
       "      <td>audio_only</td>\n",
       "      <td>speech</td>\n",
       "      <td>fearful</td>\n",
       "      <td>strong</td>\n",
       "      <td>Kids are talking by the door</td>\n",
       "      <td>second_repetition</td>\n",
       "      <td>1</td>\n",
       "      <td>male</td>\n",
       "    </tr>\n",
       "  </tbody>\n",
       "</table>\n",
       "</div>"
      ],
      "text/plain": [
       "                                                      modality vocal_channel  \\\n",
       "/Users/stephen/Emotion_Dectection/data/RAVDESS/...  audio_only        speech   \n",
       "/Users/stephen/Emotion_Dectection/data/RAVDESS/...  audio_only        speech   \n",
       "/Users/stephen/Emotion_Dectection/data/RAVDESS/...  audio_only        speech   \n",
       "/Users/stephen/Emotion_Dectection/data/RAVDESS/...  audio_only        speech   \n",
       "/Users/stephen/Emotion_Dectection/data/RAVDESS/...  audio_only        speech   \n",
       "\n",
       "                                                      emotion  \\\n",
       "/Users/stephen/Emotion_Dectection/data/RAVDESS/...  surprised   \n",
       "/Users/stephen/Emotion_Dectection/data/RAVDESS/...  surprised   \n",
       "/Users/stephen/Emotion_Dectection/data/RAVDESS/...      angry   \n",
       "/Users/stephen/Emotion_Dectection/data/RAVDESS/...    fearful   \n",
       "/Users/stephen/Emotion_Dectection/data/RAVDESS/...    fearful   \n",
       "\n",
       "                                                   emotional_intensity  \\\n",
       "/Users/stephen/Emotion_Dectection/data/RAVDESS/...              strong   \n",
       "/Users/stephen/Emotion_Dectection/data/RAVDESS/...              normal   \n",
       "/Users/stephen/Emotion_Dectection/data/RAVDESS/...              normal   \n",
       "/Users/stephen/Emotion_Dectection/data/RAVDESS/...              normal   \n",
       "/Users/stephen/Emotion_Dectection/data/RAVDESS/...              strong   \n",
       "\n",
       "                                                                       statement  \\\n",
       "/Users/stephen/Emotion_Dectection/data/RAVDESS/...  Dogs are sitting by the door   \n",
       "/Users/stephen/Emotion_Dectection/data/RAVDESS/...  Kids are talking by the door   \n",
       "/Users/stephen/Emotion_Dectection/data/RAVDESS/...  Dogs are sitting by the door   \n",
       "/Users/stephen/Emotion_Dectection/data/RAVDESS/...  Dogs are sitting by the door   \n",
       "/Users/stephen/Emotion_Dectection/data/RAVDESS/...  Kids are talking by the door   \n",
       "\n",
       "                                                           repetition  actor  \\\n",
       "/Users/stephen/Emotion_Dectection/data/RAVDESS/...   first_repitition      1   \n",
       "/Users/stephen/Emotion_Dectection/data/RAVDESS/...   first_repitition      1   \n",
       "/Users/stephen/Emotion_Dectection/data/RAVDESS/...   first_repitition      1   \n",
       "/Users/stephen/Emotion_Dectection/data/RAVDESS/...  second_repetition      1   \n",
       "/Users/stephen/Emotion_Dectection/data/RAVDESS/...  second_repetition      1   \n",
       "\n",
       "                                                   actor_sex  \n",
       "/Users/stephen/Emotion_Dectection/data/RAVDESS/...      male  \n",
       "/Users/stephen/Emotion_Dectection/data/RAVDESS/...      male  \n",
       "/Users/stephen/Emotion_Dectection/data/RAVDESS/...      male  \n",
       "/Users/stephen/Emotion_Dectection/data/RAVDESS/...      male  \n",
       "/Users/stephen/Emotion_Dectection/data/RAVDESS/...      male  "
      ]
     },
     "execution_count": 636,
     "metadata": {},
     "output_type": "execute_result"
    }
   ],
   "source": [
    "# using Pandas to load in csv for metadata on RAVDESS \n",
    "df = pd.read_csv('/Users/stephen/Emotion_Dectection/data/RAVDESS/metadata.csv', index_col=0)\n",
    "df.head()"
   ]
  },
  {
   "cell_type": "code",
   "execution_count": 637,
   "metadata": {},
   "outputs": [
    {
     "data": {
      "text/html": [
       "<div>\n",
       "<style scoped>\n",
       "    .dataframe tbody tr th:only-of-type {\n",
       "        vertical-align: middle;\n",
       "    }\n",
       "\n",
       "    .dataframe tbody tr th {\n",
       "        vertical-align: top;\n",
       "    }\n",
       "\n",
       "    .dataframe thead th {\n",
       "        text-align: right;\n",
       "    }\n",
       "</style>\n",
       "<table border=\"1\" class=\"dataframe\">\n",
       "  <thead>\n",
       "    <tr style=\"text-align: right;\">\n",
       "      <th></th>\n",
       "      <th>emotion</th>\n",
       "    </tr>\n",
       "  </thead>\n",
       "  <tbody>\n",
       "    <tr>\n",
       "      <th>/Users/stephen/Emotion_Dectection/data/RAVDESS/Audio_Speech_Actors_01-24/Actor_20/03-01-05-01-02-02-20.wav</th>\n",
       "      <td>angry</td>\n",
       "    </tr>\n",
       "    <tr>\n",
       "      <th>/Users/stephen/Emotion_Dectection/data/RAVDESS/Audio_Speech_Actors_01-24/Actor_03/03-01-05-02-01-01-03.wav</th>\n",
       "      <td>angry</td>\n",
       "    </tr>\n",
       "    <tr>\n",
       "      <th>/Users/stephen/Emotion_Dectection/data/RAVDESS/Audio_Speech_Actors_01-24/Actor_03/03-01-05-01-02-01-03.wav</th>\n",
       "      <td>angry</td>\n",
       "    </tr>\n",
       "    <tr>\n",
       "      <th>/Users/stephen/Emotion_Dectection/data/RAVDESS/Audio_Speech_Actors_01-24/Actor_14/03-01-05-01-01-02-14.wav</th>\n",
       "      <td>angry</td>\n",
       "    </tr>\n",
       "    <tr>\n",
       "      <th>/Users/stephen/Emotion_Dectection/data/RAVDESS/Audio_Speech_Actors_01-24/Actor_14/03-01-05-02-02-02-14.wav</th>\n",
       "      <td>angry</td>\n",
       "    </tr>\n",
       "    <tr>\n",
       "      <th>...</th>\n",
       "      <td>...</td>\n",
       "    </tr>\n",
       "    <tr>\n",
       "      <th>/Users/stephen/Emotion_Dectection/data/RAVDESS/Audio_Speech_Actors_01-24/Actor_13/03-01-08-02-02-01-13.wav</th>\n",
       "      <td>surprised</td>\n",
       "    </tr>\n",
       "    <tr>\n",
       "      <th>/Users/stephen/Emotion_Dectection/data/RAVDESS/Audio_Speech_Actors_01-24/Actor_13/03-01-08-01-01-01-13.wav</th>\n",
       "      <td>surprised</td>\n",
       "    </tr>\n",
       "    <tr>\n",
       "      <th>/Users/stephen/Emotion_Dectection/data/RAVDESS/Audio_Speech_Actors_01-24/Actor_06/03-01-08-02-01-02-06.wav</th>\n",
       "      <td>surprised</td>\n",
       "    </tr>\n",
       "    <tr>\n",
       "      <th>/Users/stephen/Emotion_Dectection/data/RAVDESS/Audio_Speech_Actors_01-24/Actor_21/03-01-08-01-02-02-21.wav</th>\n",
       "      <td>surprised</td>\n",
       "    </tr>\n",
       "    <tr>\n",
       "      <th>/Users/stephen/Emotion_Dectection/data/RAVDESS/Audio_Speech_Actors_01-24/Actor_01/03-01-08-02-02-01-01.wav</th>\n",
       "      <td>surprised</td>\n",
       "    </tr>\n",
       "  </tbody>\n",
       "</table>\n",
       "<p>1380 rows × 1 columns</p>\n",
       "</div>"
      ],
      "text/plain": [
       "                                                      emotion\n",
       "/Users/stephen/Emotion_Dectection/data/RAVDESS/...      angry\n",
       "/Users/stephen/Emotion_Dectection/data/RAVDESS/...      angry\n",
       "/Users/stephen/Emotion_Dectection/data/RAVDESS/...      angry\n",
       "/Users/stephen/Emotion_Dectection/data/RAVDESS/...      angry\n",
       "/Users/stephen/Emotion_Dectection/data/RAVDESS/...      angry\n",
       "...                                                       ...\n",
       "/Users/stephen/Emotion_Dectection/data/RAVDESS/...  surprised\n",
       "/Users/stephen/Emotion_Dectection/data/RAVDESS/...  surprised\n",
       "/Users/stephen/Emotion_Dectection/data/RAVDESS/...  surprised\n",
       "/Users/stephen/Emotion_Dectection/data/RAVDESS/...  surprised\n",
       "/Users/stephen/Emotion_Dectection/data/RAVDESS/...  surprised\n",
       "\n",
       "[1380 rows x 1 columns]"
      ]
     },
     "execution_count": 637,
     "metadata": {},
     "output_type": "execute_result"
    }
   ],
   "source": [
    "# for this model we only need the 'emotion' column which contains out labels/ target which there are 8 of. We'll also sort by classes \n",
    "df.drop(columns=['modality', 'vocal_channel', 'emotional_intensity', 'statement', 'repetition', 'actor', 'actor_sex'], inplace=True)\n",
    "df.sort_values(by='emotion')"
   ]
  },
  {
   "cell_type": "code",
   "execution_count": 638,
   "metadata": {},
   "outputs": [
    {
     "data": {
      "text/html": [
       "<div>\n",
       "<style scoped>\n",
       "    .dataframe tbody tr th:only-of-type {\n",
       "        vertical-align: middle;\n",
       "    }\n",
       "\n",
       "    .dataframe tbody tr th {\n",
       "        vertical-align: top;\n",
       "    }\n",
       "\n",
       "    .dataframe thead th {\n",
       "        text-align: right;\n",
       "    }\n",
       "</style>\n",
       "<table border=\"1\" class=\"dataframe\">\n",
       "  <thead>\n",
       "    <tr style=\"text-align: right;\">\n",
       "      <th></th>\n",
       "      <th>emotion</th>\n",
       "      <th>Path</th>\n",
       "    </tr>\n",
       "  </thead>\n",
       "  <tbody>\n",
       "    <tr>\n",
       "      <th>/Users/stephen/Emotion_Dectection/data/RAVDESS/Audio_Speech_Actors_01-24/Actor_01/03-01-08-02-02-01-01.wav</th>\n",
       "      <td>surprised</td>\n",
       "      <td>/Users/stephen/Emotion_Dectection/data/RAVDESS...</td>\n",
       "    </tr>\n",
       "    <tr>\n",
       "      <th>/Users/stephen/Emotion_Dectection/data/RAVDESS/Audio_Speech_Actors_01-24/Actor_01/03-01-08-01-01-01-01.wav</th>\n",
       "      <td>surprised</td>\n",
       "      <td>/Users/stephen/Emotion_Dectection/data/RAVDESS...</td>\n",
       "    </tr>\n",
       "    <tr>\n",
       "      <th>/Users/stephen/Emotion_Dectection/data/RAVDESS/Audio_Speech_Actors_01-24/Actor_01/03-01-05-01-02-01-01.wav</th>\n",
       "      <td>angry</td>\n",
       "      <td>/Users/stephen/Emotion_Dectection/data/RAVDESS...</td>\n",
       "    </tr>\n",
       "    <tr>\n",
       "      <th>/Users/stephen/Emotion_Dectection/data/RAVDESS/Audio_Speech_Actors_01-24/Actor_01/03-01-06-01-02-02-01.wav</th>\n",
       "      <td>fearful</td>\n",
       "      <td>/Users/stephen/Emotion_Dectection/data/RAVDESS...</td>\n",
       "    </tr>\n",
       "    <tr>\n",
       "      <th>/Users/stephen/Emotion_Dectection/data/RAVDESS/Audio_Speech_Actors_01-24/Actor_01/03-01-06-02-01-02-01.wav</th>\n",
       "      <td>fearful</td>\n",
       "      <td>/Users/stephen/Emotion_Dectection/data/RAVDESS...</td>\n",
       "    </tr>\n",
       "    <tr>\n",
       "      <th>...</th>\n",
       "      <td>...</td>\n",
       "      <td>...</td>\n",
       "    </tr>\n",
       "    <tr>\n",
       "      <th>/Users/stephen/Emotion_Dectection/data/RAVDESS/Audio_Speech_Actors_01-24/Actor_23/03-01-03-02-02-02-23.wav</th>\n",
       "      <td>happy</td>\n",
       "      <td>/Users/stephen/Emotion_Dectection/data/RAVDESS...</td>\n",
       "    </tr>\n",
       "    <tr>\n",
       "      <th>/Users/stephen/Emotion_Dectection/data/RAVDESS/Audio_Speech_Actors_01-24/Actor_23/03-01-03-01-01-02-23.wav</th>\n",
       "      <td>happy</td>\n",
       "      <td>/Users/stephen/Emotion_Dectection/data/RAVDESS...</td>\n",
       "    </tr>\n",
       "    <tr>\n",
       "      <th>/Users/stephen/Emotion_Dectection/data/RAVDESS/Audio_Speech_Actors_01-24/Actor_23/03-01-02-02-01-01-23.wav</th>\n",
       "      <td>calm</td>\n",
       "      <td>/Users/stephen/Emotion_Dectection/data/RAVDESS...</td>\n",
       "    </tr>\n",
       "    <tr>\n",
       "      <th>/Users/stephen/Emotion_Dectection/data/RAVDESS/Audio_Speech_Actors_01-24/Actor_23/03-01-02-01-02-01-23.wav</th>\n",
       "      <td>calm</td>\n",
       "      <td>/Users/stephen/Emotion_Dectection/data/RAVDESS...</td>\n",
       "    </tr>\n",
       "    <tr>\n",
       "      <th>/Users/stephen/Emotion_Dectection/data/RAVDESS/Audio_Speech_Actors_01-24/Actor_23/03-01-01-01-02-02-23.wav</th>\n",
       "      <td>neutral</td>\n",
       "      <td>/Users/stephen/Emotion_Dectection/data/RAVDESS...</td>\n",
       "    </tr>\n",
       "  </tbody>\n",
       "</table>\n",
       "<p>1380 rows × 2 columns</p>\n",
       "</div>"
      ],
      "text/plain": [
       "                                                      emotion  \\\n",
       "/Users/stephen/Emotion_Dectection/data/RAVDESS/...  surprised   \n",
       "/Users/stephen/Emotion_Dectection/data/RAVDESS/...  surprised   \n",
       "/Users/stephen/Emotion_Dectection/data/RAVDESS/...      angry   \n",
       "/Users/stephen/Emotion_Dectection/data/RAVDESS/...    fearful   \n",
       "/Users/stephen/Emotion_Dectection/data/RAVDESS/...    fearful   \n",
       "...                                                       ...   \n",
       "/Users/stephen/Emotion_Dectection/data/RAVDESS/...      happy   \n",
       "/Users/stephen/Emotion_Dectection/data/RAVDESS/...      happy   \n",
       "/Users/stephen/Emotion_Dectection/data/RAVDESS/...       calm   \n",
       "/Users/stephen/Emotion_Dectection/data/RAVDESS/...       calm   \n",
       "/Users/stephen/Emotion_Dectection/data/RAVDESS/...    neutral   \n",
       "\n",
       "                                                                                                 Path  \n",
       "/Users/stephen/Emotion_Dectection/data/RAVDESS/...  /Users/stephen/Emotion_Dectection/data/RAVDESS...  \n",
       "/Users/stephen/Emotion_Dectection/data/RAVDESS/...  /Users/stephen/Emotion_Dectection/data/RAVDESS...  \n",
       "/Users/stephen/Emotion_Dectection/data/RAVDESS/...  /Users/stephen/Emotion_Dectection/data/RAVDESS...  \n",
       "/Users/stephen/Emotion_Dectection/data/RAVDESS/...  /Users/stephen/Emotion_Dectection/data/RAVDESS...  \n",
       "/Users/stephen/Emotion_Dectection/data/RAVDESS/...  /Users/stephen/Emotion_Dectection/data/RAVDESS...  \n",
       "...                                                                                               ...  \n",
       "/Users/stephen/Emotion_Dectection/data/RAVDESS/...  /Users/stephen/Emotion_Dectection/data/RAVDESS...  \n",
       "/Users/stephen/Emotion_Dectection/data/RAVDESS/...  /Users/stephen/Emotion_Dectection/data/RAVDESS...  \n",
       "/Users/stephen/Emotion_Dectection/data/RAVDESS/...  /Users/stephen/Emotion_Dectection/data/RAVDESS...  \n",
       "/Users/stephen/Emotion_Dectection/data/RAVDESS/...  /Users/stephen/Emotion_Dectection/data/RAVDESS...  \n",
       "/Users/stephen/Emotion_Dectection/data/RAVDESS/...  /Users/stephen/Emotion_Dectection/data/RAVDESS...  \n",
       "\n",
       "[1380 rows x 2 columns]"
      ]
     },
     "execution_count": 638,
     "metadata": {},
     "output_type": "execute_result"
    }
   ],
   "source": [
    "df['Path'] = df.index\n",
    "df"
   ]
  },
  {
   "cell_type": "code",
   "execution_count": 639,
   "metadata": {},
   "outputs": [
    {
     "data": {
      "text/html": [
       "<div>\n",
       "<style scoped>\n",
       "    .dataframe tbody tr th:only-of-type {\n",
       "        vertical-align: middle;\n",
       "    }\n",
       "\n",
       "    .dataframe tbody tr th {\n",
       "        vertical-align: top;\n",
       "    }\n",
       "\n",
       "    .dataframe thead th {\n",
       "        text-align: right;\n",
       "    }\n",
       "</style>\n",
       "<table border=\"1\" class=\"dataframe\">\n",
       "  <thead>\n",
       "    <tr style=\"text-align: right;\">\n",
       "      <th></th>\n",
       "      <th>index</th>\n",
       "      <th>emotion</th>\n",
       "      <th>Path</th>\n",
       "    </tr>\n",
       "  </thead>\n",
       "  <tbody>\n",
       "    <tr>\n",
       "      <th>0</th>\n",
       "      <td>/Users/stephen/Emotion_Dectection/data/RAVDESS...</td>\n",
       "      <td>surprised</td>\n",
       "      <td>/Users/stephen/Emotion_Dectection/data/RAVDESS...</td>\n",
       "    </tr>\n",
       "    <tr>\n",
       "      <th>1</th>\n",
       "      <td>/Users/stephen/Emotion_Dectection/data/RAVDESS...</td>\n",
       "      <td>surprised</td>\n",
       "      <td>/Users/stephen/Emotion_Dectection/data/RAVDESS...</td>\n",
       "    </tr>\n",
       "    <tr>\n",
       "      <th>2</th>\n",
       "      <td>/Users/stephen/Emotion_Dectection/data/RAVDESS...</td>\n",
       "      <td>angry</td>\n",
       "      <td>/Users/stephen/Emotion_Dectection/data/RAVDESS...</td>\n",
       "    </tr>\n",
       "    <tr>\n",
       "      <th>3</th>\n",
       "      <td>/Users/stephen/Emotion_Dectection/data/RAVDESS...</td>\n",
       "      <td>fearful</td>\n",
       "      <td>/Users/stephen/Emotion_Dectection/data/RAVDESS...</td>\n",
       "    </tr>\n",
       "    <tr>\n",
       "      <th>4</th>\n",
       "      <td>/Users/stephen/Emotion_Dectection/data/RAVDESS...</td>\n",
       "      <td>fearful</td>\n",
       "      <td>/Users/stephen/Emotion_Dectection/data/RAVDESS...</td>\n",
       "    </tr>\n",
       "    <tr>\n",
       "      <th>...</th>\n",
       "      <td>...</td>\n",
       "      <td>...</td>\n",
       "      <td>...</td>\n",
       "    </tr>\n",
       "    <tr>\n",
       "      <th>1375</th>\n",
       "      <td>/Users/stephen/Emotion_Dectection/data/RAVDESS...</td>\n",
       "      <td>happy</td>\n",
       "      <td>/Users/stephen/Emotion_Dectection/data/RAVDESS...</td>\n",
       "    </tr>\n",
       "    <tr>\n",
       "      <th>1376</th>\n",
       "      <td>/Users/stephen/Emotion_Dectection/data/RAVDESS...</td>\n",
       "      <td>happy</td>\n",
       "      <td>/Users/stephen/Emotion_Dectection/data/RAVDESS...</td>\n",
       "    </tr>\n",
       "    <tr>\n",
       "      <th>1377</th>\n",
       "      <td>/Users/stephen/Emotion_Dectection/data/RAVDESS...</td>\n",
       "      <td>calm</td>\n",
       "      <td>/Users/stephen/Emotion_Dectection/data/RAVDESS...</td>\n",
       "    </tr>\n",
       "    <tr>\n",
       "      <th>1378</th>\n",
       "      <td>/Users/stephen/Emotion_Dectection/data/RAVDESS...</td>\n",
       "      <td>calm</td>\n",
       "      <td>/Users/stephen/Emotion_Dectection/data/RAVDESS...</td>\n",
       "    </tr>\n",
       "    <tr>\n",
       "      <th>1379</th>\n",
       "      <td>/Users/stephen/Emotion_Dectection/data/RAVDESS...</td>\n",
       "      <td>neutral</td>\n",
       "      <td>/Users/stephen/Emotion_Dectection/data/RAVDESS...</td>\n",
       "    </tr>\n",
       "  </tbody>\n",
       "</table>\n",
       "<p>1380 rows × 3 columns</p>\n",
       "</div>"
      ],
      "text/plain": [
       "                                                  index    emotion  \\\n",
       "0     /Users/stephen/Emotion_Dectection/data/RAVDESS...  surprised   \n",
       "1     /Users/stephen/Emotion_Dectection/data/RAVDESS...  surprised   \n",
       "2     /Users/stephen/Emotion_Dectection/data/RAVDESS...      angry   \n",
       "3     /Users/stephen/Emotion_Dectection/data/RAVDESS...    fearful   \n",
       "4     /Users/stephen/Emotion_Dectection/data/RAVDESS...    fearful   \n",
       "...                                                 ...        ...   \n",
       "1375  /Users/stephen/Emotion_Dectection/data/RAVDESS...      happy   \n",
       "1376  /Users/stephen/Emotion_Dectection/data/RAVDESS...      happy   \n",
       "1377  /Users/stephen/Emotion_Dectection/data/RAVDESS...       calm   \n",
       "1378  /Users/stephen/Emotion_Dectection/data/RAVDESS...       calm   \n",
       "1379  /Users/stephen/Emotion_Dectection/data/RAVDESS...    neutral   \n",
       "\n",
       "                                                   Path  \n",
       "0     /Users/stephen/Emotion_Dectection/data/RAVDESS...  \n",
       "1     /Users/stephen/Emotion_Dectection/data/RAVDESS...  \n",
       "2     /Users/stephen/Emotion_Dectection/data/RAVDESS...  \n",
       "3     /Users/stephen/Emotion_Dectection/data/RAVDESS...  \n",
       "4     /Users/stephen/Emotion_Dectection/data/RAVDESS...  \n",
       "...                                                 ...  \n",
       "1375  /Users/stephen/Emotion_Dectection/data/RAVDESS...  \n",
       "1376  /Users/stephen/Emotion_Dectection/data/RAVDESS...  \n",
       "1377  /Users/stephen/Emotion_Dectection/data/RAVDESS...  \n",
       "1378  /Users/stephen/Emotion_Dectection/data/RAVDESS...  \n",
       "1379  /Users/stephen/Emotion_Dectection/data/RAVDESS...  \n",
       "\n",
       "[1380 rows x 3 columns]"
      ]
     },
     "execution_count": 639,
     "metadata": {},
     "output_type": "execute_result"
    }
   ],
   "source": [
    "df = df[['emotion', 'Path']]\n",
    "df.reset_index(level=0, inplace=True)\n",
    "\n",
    "df"
   ]
  },
  {
   "cell_type": "markdown",
   "metadata": {},
   "source": [
    "# Data Augmentation Functions \n",
    "It is common practice to transform audio data with data augmentation tools like time adding white noise, time-stretching and pitch shifts. \n",
    "We'll make duplicates of each wav file so our model will have more variable input data. "
   ]
  },
  {
   "cell_type": "code",
   "execution_count": 640,
   "metadata": {},
   "outputs": [
    {
     "name": "stdout",
     "output_type": "stream",
     "text": [
      ".wav file shape: (61929,)\n",
      "sample rate: 16000\n"
     ]
    },
    {
     "data": {
      "text/plain": [
       "Text(0.5, 1.0, 'Strong Anger')"
      ]
     },
     "execution_count": 640,
     "metadata": {},
     "output_type": "execute_result"
    },
    {
     "data": {
      "image/png": "[encoded data removed]",
      "text/plain": [
       "<Figure size 1008x360 with 1 Axes>"
      ]
     },
     "metadata": {
      "needs_background": "light"
     },
     "output_type": "display_data"
    }
   ],
   "source": [
    "# test ideas and visualize \n",
    "\n",
    "# randomly choosen file                                                                     \n",
    "# Emotion is 'Anger' and Intensity is strong \n",
    "test_wav_path = '/Users/stephen/Emotion_Dectection/data/RAVDESS/Audio_Speech_Actors_01-24/Actor_04/03-01-05-02-01-02-04.wav'\n",
    "sig, sr = librosa.load(test_wav_path, sr=16000) # \n",
    "print('.wav file shape: ' + str(sig.shape))\n",
    "print('sample rate: ' + str(sr))\n",
    "plt.figure(figsize=(14, 5))\n",
    "librosa.display.waveplot(sig, sr=sr)\n",
    "plt.title('Strong Anger')\n",
    "#ipd.Audio(test_signal, sr)\n"
   ]
  },
  {
   "cell_type": "code",
   "execution_count": 641,
   "metadata": {},
   "outputs": [
    {
     "data": {
      "text/plain": [
       "<matplotlib.collections.QuadMesh at 0x7fcf20889dc0>"
      ]
     },
     "execution_count": 641,
     "metadata": {},
     "output_type": "execute_result"
    },
    {
     "data": {
      "image/png": "[encoded data removed]",
      "text/plain": [
       "<Figure size 1008x360 with 1 Axes>"
      ]
     },
     "metadata": {
      "needs_background": "light"
     },
     "output_type": "display_data"
    }
   ],
   "source": [
    "# mellllllsss\n",
    "mel = librosa.feature.melspectrogram(sig)\n",
    "mel_db = librosa.amplitude_to_db(mel)\n",
    "plt.figure(figsize=(14, 5))\n",
    "plt.title('Anger')\n",
    "librosa.display.specshow(mel_db, sr=sr, x_axis='time', y_axis='hz')\n"
   ]
  },
  {
   "cell_type": "markdown",
   "metadata": {},
   "source": [
    "# Feature Extraction \n",
    "one of the best ASR (automatic Speech Recognition) audio feature extract methods is using a combination of MFCC's, the delta of those MFCC's, and the delta of those deltas (AKA Delta-Deltas). Here we will create functions to \n",
    "\n",
    "deltas - trajectories of the MFCC coefficients over time\n",
    "\n",
    "\n",
    "http://practicalcryptography.com/miscellaneous/machine-learning/guide-mel-frequency-cepstral-coefficients-mfccs/"
   ]
  },
  {
   "cell_type": "code",
   "execution_count": 642,
   "metadata": {},
   "outputs": [
    {
     "data": {
      "text/plain": [
       "<matplotlib.colorbar.Colorbar at 0x7fcf1c80a1f0>"
      ]
     },
     "execution_count": 642,
     "metadata": {},
     "output_type": "execute_result"
    },
    {
     "data": {
      "image/png": "[encoded data removed]",
      "text/plain": [
       "<Figure size 432x288 with 6 Axes>"
      ]
     },
     "metadata": {
      "needs_background": "light"
     },
     "output_type": "display_data"
    }
   ],
   "source": [
    "# Showing actual feature extractions used \n",
    "# resource: https://librosa.org/doc/main/generated/librosa.feature.delta.html?highlight=delta#librosa.feature.delta\n",
    "\n",
    "test_mfcc = librosa.feature.mfcc(y=sig, sr=sr)\n",
    "test_mfcc_delta = librosa.feature.delta(test_mfcc)\n",
    "test_mfcc_delta2 = librosa.feature.delta(test_mfcc, order=2)\n",
    "\n",
    "\n",
    "\n",
    "\n",
    "fig, ax = plt.subplots(nrows=3, sharex=True, sharey=True)\n",
    "img1 = librosa.display.specshow(test_mfcc, ax=ax[0], x_axis='time')\n",
    "ax[0].set(title='MFCC')\n",
    "ax[0].label_outer()\n",
    "img2 = librosa.display.specshow(test_mfcc_delta, ax=ax[1], x_axis='time')\n",
    "ax[1].set(title=r'MFCC-$\\Delta$')\n",
    "ax[1].label_outer()\n",
    "img3 = librosa.display.specshow(test_mfcc_delta2, ax=ax[2], x_axis='time')\n",
    "ax[2].set(title=r'MFCC-$\\Delta^2$')\n",
    "fig.colorbar(img1, ax=[ax[0]])\n",
    "fig.colorbar(img2, ax=[ax[1]])\n",
    "fig.colorbar(img3, ax=[ax[2]])"
   ]
  },
  {
   "cell_type": "markdown",
   "metadata": {},
   "source": [
    "# Data Augmentation Functions \n",
    "It is common practice to transform audio data with data augmentation tools like time adding white noise, time-stretching and pitch shifts. \n",
    "We'll make duplicates of each wav file so our model will have more variable input data. "
   ]
  },
  {
   "cell_type": "code",
   "execution_count": 643,
   "metadata": {},
   "outputs": [],
   "source": [
    "# adding Additive White Gausian Noise\n",
    "def noise(data, SNR=10):   # https://medium.com/analytics-vidhya/adding-noise-to-audio-clips-5d8cee24ccb8\n",
    "    #noise_amp = 0.035*np.random.uniform()*np.amax(data)\n",
    "    #data = data + noise_amp*np.random.normal(size=data.shape[0])\n",
    "    #return data\n",
    "    # RMS value of signal \n",
    "    RMS_s = math.sqrt(np.mean(data**2))\n",
    "    # RMS values of noise \n",
    "    RMS_n = math.sqrt(RMS_s**2/(pow(10,SNR/10)))\n",
    "    # using population formula for standard daviation \n",
    "    # mean = 0 STD = RMS\n",
    "    STD_n = RMS_n \n",
    "    noise = np.random.normal(0, STD_n, data.shape[0])\n",
    "    new_data = data + noise\n",
    "    return np.mean(librosa.feature.mfcc(y=new_data, sr=16000, n_mfcc=13).T, axis=0)\n",
    "\n",
    "# Time Strectching \n",
    "def stretch(data, rate=0.75):\n",
    "    return librosa.effects.time_stretch(data, rate)\n",
    "\n",
    "def shift(data):\n",
    "    shift_range = int(np.random.uniform(low=-5, high = 5)*1000)\n",
    "    return np.roll(data, shift_range)\n",
    "\n",
    "# Pre Emphasis     info on Pre-Emphasis in speech recognition: https://wiki.aalto.fi/display/ITSP/Pre-emphasis\n",
    "def pre_emphasize(data):\n",
    "    return librosa.effects.preemphasis(data, coef=1)\n",
    "\n",
    "def pitch(data, sampling_rate):\n",
    "    return librosa.effects.pitch_shift(data, sampling_rate, n_steps=3, bins_per_octave=24)\n",
    "# taking any example and checking for techniques.\n",
    "path = np.array(df.Path)[1]\n",
    "data, sample_rate = librosa.load(path)"
   ]
  },
  {
   "cell_type": "code",
   "execution_count": 659,
   "metadata": {},
   "outputs": [],
   "source": [
    "# https://librosa.org/doc/main/generated/librosa.feature.delta.html\n",
    "\n",
    "def extract_features(data):\n",
    "    sample_rate = 16000\n",
    "\n",
    "    result = np.array([])\n",
    "\n",
    "\n",
    "\n",
    "    # MFCC\n",
    "    mfcc = np.mean(librosa.feature.mfcc(y=data, sr=sample_rate).T, axis=0)\n",
    "    result = np.hstack((result, mfcc)) # stacking horizontally\n",
    "\n",
    "    \n",
    "    # MFCC Delta\n",
    "    mfcc_delta = np.mean(librosa.feature.delta(data=mfcc).T, axis=0)\n",
    "    result = np.hstack((result, mfcc_delta)) # stacking horizontally\n",
    "\n",
    "    # MFCC Delta-Delta\n",
    "    mfcc_delta2 = np.mean(librosa.feature.delta(data=mfcc, order=2).T, axis=0)\n",
    "    result = np.hstack((result, mfcc_delta2)) # stacking horizontally\n",
    "\n",
    "    # Root Mean Square Value\n",
    "    rms = np.mean(librosa.feature.rms(y=data).T, axis=0)\n",
    "    result = np.hstack((result, rms)) # stacking horizontally\n",
    "    \n",
    "    # MelSpectogram\n",
    "    mel = np.mean(librosa.feature.melspectrogram(y=data, sr=sample_rate).T, axis=0)\n",
    "    result = np.hstack((result, mel)) # stacking horizontally\n",
    "\n",
    "    return result\n",
    "\n",
    "def get_features(path): \n",
    "    # duration and offset are used to take care of the no audio in start and the ending of each audio files .\n",
    "    data, sample_rate = librosa.load(path, sr=16000, duration=2.5, offset=0.6)  # , \n",
    "    #data, index = librosa.effects.trim(_data)\n",
    "    \n",
    "    # without augmentation\n",
    "    res1 = extract_features(data)\n",
    "    result = np.array(res1)\n",
    "    \n",
    "    # data with noise\n",
    "    noise_data = noise(data)\n",
    "    res2 = extract_features(noise_data)\n",
    "    result = np.vstack((result, res2)) # stacking vertically\n",
    "    \n",
    "    # data with stretching and pitching\n",
    "    #new_data = stretch(data)\n",
    "    #data_stretch_pitch = pitch(new_data, sample_rate)\n",
    "    #res3 = extract_features(data_stretch_pitch)\n",
    "    #result = np.vstack((result, res3)) # stacking vertically\n",
    "\n",
    "    pre_emp_data = pre_emphasize(data)\n",
    "    res4 = extract_features(pre_emp_data)\n",
    "    result = np.vstack((result, res4)) # stacking vertically\n",
    "    \n",
    "    return result\n"
   ]
  },
  {
   "cell_type": "markdown",
   "metadata": {},
   "source": [
    "# Calling Functions and preparing data for CNN\n",
    "So the outline of our features are: \n",
    "    - "
   ]
  },
  {
   "cell_type": "code",
   "execution_count": 660,
   "metadata": {},
   "outputs": [
    {
     "name": "stderr",
     "output_type": "stream",
     "text": [
      "/Users/stephen/opt/anaconda3/envs/torch_env/lib/python3.9/site-packages/librosa/core/spectrum.py:222: UserWarning: n_fft=2048 is too small for input signal of length=12\n",
      "  warnings.warn(\n"
     ]
    }
   ],
   "source": [
    "X, Y = [], []\n",
    "for path, emotion in zip(df.Path, df.emotion):\n",
    "    feature = get_features(path)\n",
    "    for ele in feature:\n",
    "        X.append(ele)\n",
    "        # appending emotion 3 times as we have made 3 augmentation techniques on each audio file.\n",
    "        Y.append(emotion)\n"
   ]
  },
  {
   "cell_type": "code",
   "execution_count": 662,
   "metadata": {},
   "outputs": [
    {
     "data": {
      "text/plain": [
       "(4140, 4140, (1380,))"
      ]
     },
     "execution_count": 662,
     "metadata": {},
     "output_type": "execute_result"
    }
   ],
   "source": [
    "len(X), len(Y), df.Path.shape"
   ]
  },
  {
   "cell_type": "code",
   "execution_count": 663,
   "metadata": {},
   "outputs": [
    {
     "data": {
      "text/html": [
       "<div>\n",
       "<style scoped>\n",
       "    .dataframe tbody tr th:only-of-type {\n",
       "        vertical-align: middle;\n",
       "    }\n",
       "\n",
       "    .dataframe tbody tr th {\n",
       "        vertical-align: top;\n",
       "    }\n",
       "\n",
       "    .dataframe thead th {\n",
       "        text-align: right;\n",
       "    }\n",
       "</style>\n",
       "<table border=\"1\" class=\"dataframe\">\n",
       "  <thead>\n",
       "    <tr style=\"text-align: right;\">\n",
       "      <th></th>\n",
       "      <th>0</th>\n",
       "      <th>1</th>\n",
       "      <th>2</th>\n",
       "      <th>3</th>\n",
       "      <th>4</th>\n",
       "      <th>5</th>\n",
       "      <th>6</th>\n",
       "      <th>7</th>\n",
       "      <th>8</th>\n",
       "      <th>9</th>\n",
       "      <th>...</th>\n",
       "      <th>142</th>\n",
       "      <th>143</th>\n",
       "      <th>144</th>\n",
       "      <th>145</th>\n",
       "      <th>146</th>\n",
       "      <th>147</th>\n",
       "      <th>148</th>\n",
       "      <th>149</th>\n",
       "      <th>150</th>\n",
       "      <th>labels</th>\n",
       "    </tr>\n",
       "  </thead>\n",
       "  <tbody>\n",
       "    <tr>\n",
       "      <th>0</th>\n",
       "      <td>-503.185974</td>\n",
       "      <td>57.042301</td>\n",
       "      <td>-8.313340</td>\n",
       "      <td>13.147138</td>\n",
       "      <td>-7.274663</td>\n",
       "      <td>-6.099257</td>\n",
       "      <td>-16.450794</td>\n",
       "      <td>-20.211823</td>\n",
       "      <td>-11.638207</td>\n",
       "      <td>0.479528</td>\n",
       "      <td>...</td>\n",
       "      <td>0.000839</td>\n",
       "      <td>5.788149e-04</td>\n",
       "      <td>0.000471</td>\n",
       "      <td>0.000436</td>\n",
       "      <td>0.000508</td>\n",
       "      <td>4.320344e-04</td>\n",
       "      <td>0.000399</td>\n",
       "      <td>0.000087</td>\n",
       "      <td>9.128546e-06</td>\n",
       "      <td>surprised</td>\n",
       "    </tr>\n",
       "    <tr>\n",
       "      <th>1</th>\n",
       "      <td>29.912209</td>\n",
       "      <td>-99.705097</td>\n",
       "      <td>27.487908</td>\n",
       "      <td>-15.716419</td>\n",
       "      <td>-0.736366</td>\n",
       "      <td>-22.383708</td>\n",
       "      <td>-1.618126</td>\n",
       "      <td>10.088343</td>\n",
       "      <td>43.293486</td>\n",
       "      <td>54.078932</td>\n",
       "      <td>...</td>\n",
       "      <td>645433.349228</td>\n",
       "      <td>1.312445e+06</td>\n",
       "      <td>0.051437</td>\n",
       "      <td>0.000283</td>\n",
       "      <td>17.295957</td>\n",
       "      <td>1.729966e+06</td>\n",
       "      <td>83281.804426</td>\n",
       "      <td>0.000080</td>\n",
       "      <td>1.221729e+04</td>\n",
       "      <td>surprised</td>\n",
       "    </tr>\n",
       "    <tr>\n",
       "      <th>2</th>\n",
       "      <td>-582.685486</td>\n",
       "      <td>-13.861852</td>\n",
       "      <td>-24.370552</td>\n",
       "      <td>-1.403817</td>\n",
       "      <td>-17.714478</td>\n",
       "      <td>-13.501724</td>\n",
       "      <td>-22.958916</td>\n",
       "      <td>-24.587143</td>\n",
       "      <td>-15.874348</td>\n",
       "      <td>-2.136194</td>\n",
       "      <td>...</td>\n",
       "      <td>0.003045</td>\n",
       "      <td>2.144882e-03</td>\n",
       "      <td>0.001774</td>\n",
       "      <td>0.001669</td>\n",
       "      <td>0.001966</td>\n",
       "      <td>1.693892e-03</td>\n",
       "      <td>0.001574</td>\n",
       "      <td>0.000344</td>\n",
       "      <td>3.638589e-05</td>\n",
       "      <td>surprised</td>\n",
       "    </tr>\n",
       "    <tr>\n",
       "      <th>3</th>\n",
       "      <td>-592.649109</td>\n",
       "      <td>67.523392</td>\n",
       "      <td>-4.463047</td>\n",
       "      <td>15.199685</td>\n",
       "      <td>-1.826691</td>\n",
       "      <td>-6.050766</td>\n",
       "      <td>-12.518244</td>\n",
       "      <td>-12.480824</td>\n",
       "      <td>-13.755399</td>\n",
       "      <td>1.120708</td>\n",
       "      <td>...</td>\n",
       "      <td>0.000009</td>\n",
       "      <td>6.031017e-06</td>\n",
       "      <td>0.000007</td>\n",
       "      <td>0.000010</td>\n",
       "      <td>0.000008</td>\n",
       "      <td>6.372401e-06</td>\n",
       "      <td>0.000006</td>\n",
       "      <td>0.000002</td>\n",
       "      <td>4.764982e-08</td>\n",
       "      <td>surprised</td>\n",
       "    </tr>\n",
       "    <tr>\n",
       "      <th>4</th>\n",
       "      <td>57.403811</td>\n",
       "      <td>-98.073084</td>\n",
       "      <td>26.251412</td>\n",
       "      <td>-16.099310</td>\n",
       "      <td>-0.569975</td>\n",
       "      <td>-21.891479</td>\n",
       "      <td>-2.223549</td>\n",
       "      <td>9.460541</td>\n",
       "      <td>43.312953</td>\n",
       "      <td>54.585534</td>\n",
       "      <td>...</td>\n",
       "      <td>995473.352637</td>\n",
       "      <td>2.024227e+06</td>\n",
       "      <td>0.079325</td>\n",
       "      <td>0.000433</td>\n",
       "      <td>26.398546</td>\n",
       "      <td>2.640420e+06</td>\n",
       "      <td>127111.687433</td>\n",
       "      <td>0.000121</td>\n",
       "      <td>1.788293e+04</td>\n",
       "      <td>surprised</td>\n",
       "    </tr>\n",
       "  </tbody>\n",
       "</table>\n",
       "<p>5 rows × 152 columns</p>\n",
       "</div>"
      ],
      "text/plain": [
       "            0          1          2          3          4          5  \\\n",
       "0 -503.185974  57.042301  -8.313340  13.147138  -7.274663  -6.099257   \n",
       "1   29.912209 -99.705097  27.487908 -15.716419  -0.736366 -22.383708   \n",
       "2 -582.685486 -13.861852 -24.370552  -1.403817 -17.714478 -13.501724   \n",
       "3 -592.649109  67.523392  -4.463047  15.199685  -1.826691  -6.050766   \n",
       "4   57.403811 -98.073084  26.251412 -16.099310  -0.569975 -21.891479   \n",
       "\n",
       "           6          7          8          9  ...            142  \\\n",
       "0 -16.450794 -20.211823 -11.638207   0.479528  ...       0.000839   \n",
       "1  -1.618126  10.088343  43.293486  54.078932  ...  645433.349228   \n",
       "2 -22.958916 -24.587143 -15.874348  -2.136194  ...       0.003045   \n",
       "3 -12.518244 -12.480824 -13.755399   1.120708  ...       0.000009   \n",
       "4  -2.223549   9.460541  43.312953  54.585534  ...  995473.352637   \n",
       "\n",
       "            143       144       145        146           147            148  \\\n",
       "0  5.788149e-04  0.000471  0.000436   0.000508  4.320344e-04       0.000399   \n",
       "1  1.312445e+06  0.051437  0.000283  17.295957  1.729966e+06   83281.804426   \n",
       "2  2.144882e-03  0.001774  0.001669   0.001966  1.693892e-03       0.001574   \n",
       "3  6.031017e-06  0.000007  0.000010   0.000008  6.372401e-06       0.000006   \n",
       "4  2.024227e+06  0.079325  0.000433  26.398546  2.640420e+06  127111.687433   \n",
       "\n",
       "        149           150     labels  \n",
       "0  0.000087  9.128546e-06  surprised  \n",
       "1  0.000080  1.221729e+04  surprised  \n",
       "2  0.000344  3.638589e-05  surprised  \n",
       "3  0.000002  4.764982e-08  surprised  \n",
       "4  0.000121  1.788293e+04  surprised  \n",
       "\n",
       "[5 rows x 152 columns]"
      ]
     },
     "execution_count": 663,
     "metadata": {},
     "output_type": "execute_result"
    }
   ],
   "source": [
    "Features = pd.DataFrame(X)\n",
    "Features['labels'] = Y\n",
    "Features.to_csv('features.csv', index=False)\n",
    "Features.head()"
   ]
  },
  {
   "cell_type": "code",
   "execution_count": 664,
   "metadata": {},
   "outputs": [],
   "source": [
    "X = Features.iloc[: ,:-1].values\n",
    "Y = Features['labels'].values"
   ]
  },
  {
   "cell_type": "code",
   "execution_count": 665,
   "metadata": {},
   "outputs": [],
   "source": [
    "# As this is a multiclass classification problem onehotencoding our Y.\n",
    "encoder = OneHotEncoder()\n",
    "Y = encoder.fit_transform(np.array(Y).reshape(-1,1)).toarray()"
   ]
  },
  {
   "cell_type": "code",
   "execution_count": 666,
   "metadata": {},
   "outputs": [
    {
     "data": {
      "text/plain": [
       "((3105, 151), (3105, 8), (1035, 151), (1035, 8))"
      ]
     },
     "execution_count": 666,
     "metadata": {},
     "output_type": "execute_result"
    }
   ],
   "source": [
    "# splitting data\n",
    "x_train, x_test, y_train, y_test = train_test_split(X, Y, random_state=0, shuffle=True)\n",
    "x_train.shape, y_train.shape, x_test.shape, y_test.shape"
   ]
  },
  {
   "cell_type": "code",
   "execution_count": 667,
   "metadata": {},
   "outputs": [
    {
     "data": {
      "text/plain": [
       "((3105, 151), (3105, 8), (1035, 151), (1035, 8))"
      ]
     },
     "execution_count": 667,
     "metadata": {},
     "output_type": "execute_result"
    }
   ],
   "source": [
    "# scaling our data with sklearn's Standard scaler\n",
    "scaler = StandardScaler()\n",
    "x_train = scaler.fit_transform(x_train)\n",
    "x_test = scaler.transform(x_test)\n",
    "x_train.shape, y_train.shape, x_test.shape, y_test.shape"
   ]
  },
  {
   "cell_type": "code",
   "execution_count": 668,
   "metadata": {},
   "outputs": [
    {
     "data": {
      "text/plain": [
       "((3105, 151, 1), (3105, 8), (1035, 151, 1), (1035, 8))"
      ]
     },
     "execution_count": 668,
     "metadata": {},
     "output_type": "execute_result"
    }
   ],
   "source": [
    "# making our data compatible to model.\n",
    "x_train = np.expand_dims(x_train, axis=2)\n",
    "x_test = np.expand_dims(x_test, axis=2)\n",
    "x_train.shape, y_train.shape, x_test.shape, y_test.shape"
   ]
  },
  {
   "cell_type": "code",
   "execution_count": 669,
   "metadata": {},
   "outputs": [
    {
     "name": "stdout",
     "output_type": "stream",
     "text": [
      "Model: \"sequential_15\"\n",
      "_________________________________________________________________\n",
      " Layer (type)                Output Shape              Param #   \n",
      "=================================================================\n",
      " conv1d_60 (Conv1D)          (None, 151, 256)          1536      \n",
      "                                                                 \n",
      " max_pooling1d_60 (MaxPoolin  (None, 76, 256)          0         \n",
      " g1D)                                                            \n",
      "                                                                 \n",
      " conv1d_61 (Conv1D)          (None, 76, 256)           327936    \n",
      "                                                                 \n",
      " max_pooling1d_61 (MaxPoolin  (None, 38, 256)          0         \n",
      " g1D)                                                            \n",
      "                                                                 \n",
      " conv1d_62 (Conv1D)          (None, 38, 128)           163968    \n",
      "                                                                 \n",
      " max_pooling1d_62 (MaxPoolin  (None, 19, 128)          0         \n",
      " g1D)                                                            \n",
      "                                                                 \n",
      " dropout_30 (Dropout)        (None, 19, 128)           0         \n",
      "                                                                 \n",
      " conv1d_63 (Conv1D)          (None, 19, 64)            41024     \n",
      "                                                                 \n",
      " max_pooling1d_63 (MaxPoolin  (None, 10, 64)           0         \n",
      " g1D)                                                            \n",
      "                                                                 \n",
      " flatten_16 (Flatten)        (None, 640)               0         \n",
      "                                                                 \n",
      " dense_30 (Dense)            (None, 32)                20512     \n",
      "                                                                 \n",
      " dropout_31 (Dropout)        (None, 32)                0         \n",
      "                                                                 \n",
      " flatten_17 (Flatten)        (None, 32)                0         \n",
      "                                                                 \n",
      " dense_31 (Dense)            (None, 8)                 264       \n",
      "                                                                 \n",
      "=================================================================\n",
      "Total params: 555,240\n",
      "Trainable params: 555,240\n",
      "Non-trainable params: 0\n",
      "_________________________________________________________________\n"
     ]
    }
   ],
   "source": [
    "model=Sequential()\n",
    "model.add(Conv1D(256, kernel_size=5, strides=1, padding='same', activation='relu', input_shape=(x_train.shape[1], 1)))\n",
    "model.add(MaxPooling1D(pool_size=5, strides = 2, padding = 'same'))\n",
    "\n",
    "model.add(Conv1D(256, kernel_size=5, strides=1, padding='same', activation='relu'))\n",
    "model.add(MaxPooling1D(pool_size=5, strides = 2, padding = 'same'))\n",
    "\n",
    "model.add(Conv1D(128, kernel_size=5, strides=1, padding='same', activation='relu'))\n",
    "model.add(MaxPooling1D(pool_size=5, strides = 2, padding = 'same'))\n",
    "model.add(Dropout(0.2))\n",
    "\n",
    "model.add(Conv1D(64, kernel_size=5, strides=1, padding='same', activation='relu'))\n",
    "model.add(MaxPooling1D(pool_size=5, strides = 2, padding = 'same'))\n",
    "\n",
    "model.add(Flatten())\n",
    "model.add(Dense(units=32, activation='relu'))\n",
    "model.add(Dropout(0.3))\n",
    "\n",
    "model.add(Flatten())\n",
    "model.add(Dense(units=8, activation='softmax'))\n",
    "model.compile(optimizer = 'adam' , loss = 'categorical_crossentropy' , metrics = ['accuracy'])\n",
    "\n",
    "model.summary()"
   ]
  },
  {
   "cell_type": "markdown",
   "metadata": {},
   "source": []
  },
  {
   "cell_type": "code",
   "execution_count": 670,
   "metadata": {},
   "outputs": [
    {
     "name": "stdout",
     "output_type": "stream",
     "text": [
      "Epoch 1/50\n",
      "49/49 [==============================] - 5s 92ms/step - loss: 2.0551 - accuracy: 0.1588 - val_loss: 2.0307 - val_accuracy: 0.1816 - lr: 0.0010\n",
      "Epoch 2/50\n",
      "49/49 [==============================] - 5s 95ms/step - loss: 2.0050 - accuracy: 0.1749 - val_loss: 2.0058 - val_accuracy: 0.2106 - lr: 0.0010\n",
      "Epoch 3/50\n",
      "49/49 [==============================] - 5s 97ms/step - loss: 1.9732 - accuracy: 0.2100 - val_loss: 1.9531 - val_accuracy: 0.2164 - lr: 0.0010\n",
      "Epoch 4/50\n",
      "49/49 [==============================] - 5s 93ms/step - loss: 1.9173 - accuracy: 0.2377 - val_loss: 1.9121 - val_accuracy: 0.2589 - lr: 0.0010\n",
      "Epoch 5/50\n",
      "49/49 [==============================] - 5s 95ms/step - loss: 1.8730 - accuracy: 0.2541 - val_loss: 1.8569 - val_accuracy: 0.2638 - lr: 0.0010\n",
      "Epoch 6/50\n",
      "49/49 [==============================] - 5s 98ms/step - loss: 1.8482 - accuracy: 0.2557 - val_loss: 1.8436 - val_accuracy: 0.2560 - lr: 0.0010\n",
      "Epoch 7/50\n",
      "49/49 [==============================] - 5s 95ms/step - loss: 1.8049 - accuracy: 0.2876 - val_loss: 1.8180 - val_accuracy: 0.2899 - lr: 0.0010\n",
      "Epoch 8/50\n",
      "49/49 [==============================] - 5s 95ms/step - loss: 1.7842 - accuracy: 0.2834 - val_loss: 1.7883 - val_accuracy: 0.2899 - lr: 0.0010\n",
      "Epoch 9/50\n",
      "49/49 [==============================] - 5s 95ms/step - loss: 1.7588 - accuracy: 0.3037 - val_loss: 1.7377 - val_accuracy: 0.3082 - lr: 0.0010\n",
      "Epoch 10/50\n",
      "49/49 [==============================] - 5s 96ms/step - loss: 1.7291 - accuracy: 0.3121 - val_loss: 1.7571 - val_accuracy: 0.3005 - lr: 0.0010\n",
      "Epoch 11/50\n",
      "49/49 [==============================] - 5s 96ms/step - loss: 1.7080 - accuracy: 0.3314 - val_loss: 1.7069 - val_accuracy: 0.3140 - lr: 0.0010\n",
      "Epoch 12/50\n",
      "49/49 [==============================] - 5s 94ms/step - loss: 1.6819 - accuracy: 0.3291 - val_loss: 1.6760 - val_accuracy: 0.3333 - lr: 0.0010\n",
      "Epoch 13/50\n",
      "49/49 [==============================] - 5s 96ms/step - loss: 1.6787 - accuracy: 0.3378 - val_loss: 1.6994 - val_accuracy: 0.3179 - lr: 0.0010\n",
      "Epoch 14/50\n",
      "49/49 [==============================] - 5s 95ms/step - loss: 1.6535 - accuracy: 0.3362 - val_loss: 1.6607 - val_accuracy: 0.3401 - lr: 0.0010\n",
      "Epoch 15/50\n",
      "49/49 [==============================] - 5s 101ms/step - loss: 1.6359 - accuracy: 0.3481 - val_loss: 1.6715 - val_accuracy: 0.3372 - lr: 0.0010\n",
      "Epoch 16/50\n",
      "49/49 [==============================] - 5s 98ms/step - loss: 1.6101 - accuracy: 0.3652 - val_loss: 1.6438 - val_accuracy: 0.3372 - lr: 0.0010\n",
      "Epoch 17/50\n",
      "49/49 [==============================] - 5s 99ms/step - loss: 1.6020 - accuracy: 0.3829 - val_loss: 1.6439 - val_accuracy: 0.3478 - lr: 0.0010\n",
      "Epoch 18/50\n",
      "49/49 [==============================] - 5s 99ms/step - loss: 1.5834 - accuracy: 0.3787 - val_loss: 1.6178 - val_accuracy: 0.3594 - lr: 0.0010\n",
      "Epoch 19/50\n",
      "49/49 [==============================] - 5s 97ms/step - loss: 1.5837 - accuracy: 0.3768 - val_loss: 1.6227 - val_accuracy: 0.3546 - lr: 0.0010\n",
      "Epoch 20/50\n",
      "49/49 [==============================] - 5s 97ms/step - loss: 1.5602 - accuracy: 0.3884 - val_loss: 1.6398 - val_accuracy: 0.3401 - lr: 0.0010\n",
      "Epoch 21/50\n",
      "49/49 [==============================] - 5s 97ms/step - loss: 1.5394 - accuracy: 0.3929 - val_loss: 1.5825 - val_accuracy: 0.3845 - lr: 0.0010\n",
      "Epoch 22/50\n",
      "49/49 [==============================] - 5s 97ms/step - loss: 1.5029 - accuracy: 0.4132 - val_loss: 1.5836 - val_accuracy: 0.3739 - lr: 0.0010\n",
      "Epoch 23/50\n",
      "49/49 [==============================] - 5s 104ms/step - loss: 1.5058 - accuracy: 0.4097 - val_loss: 1.6220 - val_accuracy: 0.3517 - lr: 0.0010\n",
      "Epoch 24/50\n",
      "49/49 [==============================] - 5s 96ms/step - loss: 1.4948 - accuracy: 0.4093 - val_loss: 1.6096 - val_accuracy: 0.3652 - lr: 0.0010\n",
      "Epoch 25/50\n",
      "49/49 [==============================] - 5s 98ms/step - loss: 1.4755 - accuracy: 0.4258 - val_loss: 1.5720 - val_accuracy: 0.3749 - lr: 0.0010\n",
      "Epoch 26/50\n",
      "49/49 [==============================] - 5s 97ms/step - loss: 1.4676 - accuracy: 0.4419 - val_loss: 1.5861 - val_accuracy: 0.3845 - lr: 0.0010\n",
      "Epoch 27/50\n",
      "49/49 [==============================] - 5s 97ms/step - loss: 1.4539 - accuracy: 0.4393 - val_loss: 1.5680 - val_accuracy: 0.3845 - lr: 0.0010\n",
      "Epoch 28/50\n",
      "49/49 [==============================] - 5s 96ms/step - loss: 1.4267 - accuracy: 0.4509 - val_loss: 1.5309 - val_accuracy: 0.3952 - lr: 0.0010\n",
      "Epoch 29/50\n",
      "49/49 [==============================] - 5s 95ms/step - loss: 1.4257 - accuracy: 0.4528 - val_loss: 1.5302 - val_accuracy: 0.4087 - lr: 0.0010\n",
      "Epoch 30/50\n",
      "49/49 [==============================] - 5s 97ms/step - loss: 1.3841 - accuracy: 0.4651 - val_loss: 1.5279 - val_accuracy: 0.3807 - lr: 0.0010\n",
      "Epoch 31/50\n",
      "49/49 [==============================] - 5s 97ms/step - loss: 1.3997 - accuracy: 0.4525 - val_loss: 1.5483 - val_accuracy: 0.3981 - lr: 0.0010\n",
      "Epoch 32/50\n",
      "49/49 [==============================] - 5s 106ms/step - loss: 1.3707 - accuracy: 0.4831 - val_loss: 1.5411 - val_accuracy: 0.4010 - lr: 0.0010\n",
      "Epoch 33/50\n",
      "49/49 [==============================] - 6s 119ms/step - loss: 1.3449 - accuracy: 0.4837 - val_loss: 1.5119 - val_accuracy: 0.4000 - lr: 0.0010\n",
      "Epoch 34/50\n",
      "49/49 [==============================] - 5s 100ms/step - loss: 1.3120 - accuracy: 0.4792 - val_loss: 1.5244 - val_accuracy: 0.4145 - lr: 0.0010\n",
      "Epoch 35/50\n",
      "49/49 [==============================] - 5s 107ms/step - loss: 1.3049 - accuracy: 0.4860 - val_loss: 1.5233 - val_accuracy: 0.4329 - lr: 0.0010\n",
      "Epoch 36/50\n",
      "49/49 [==============================] - 5s 94ms/step - loss: 1.3053 - accuracy: 0.4937 - val_loss: 1.5682 - val_accuracy: 0.4155 - lr: 0.0010\n",
      "Epoch 37/50\n",
      "49/49 [==============================] - 5s 96ms/step - loss: 1.2973 - accuracy: 0.4966 - val_loss: 1.4870 - val_accuracy: 0.4377 - lr: 0.0010\n",
      "Epoch 38/50\n",
      "49/49 [==============================] - 5s 95ms/step - loss: 1.2704 - accuracy: 0.5092 - val_loss: 1.4759 - val_accuracy: 0.4464 - lr: 0.0010\n",
      "Epoch 39/50\n",
      "49/49 [==============================] - 4s 90ms/step - loss: 1.2508 - accuracy: 0.5237 - val_loss: 1.5648 - val_accuracy: 0.4097 - lr: 0.0010\n",
      "Epoch 40/50\n",
      "49/49 [==============================] - 5s 95ms/step - loss: 1.2388 - accuracy: 0.5156 - val_loss: 1.5239 - val_accuracy: 0.4174 - lr: 0.0010\n",
      "Epoch 41/50\n",
      "49/49 [==============================] - 4s 91ms/step - loss: 1.2438 - accuracy: 0.5233 - val_loss: 1.5097 - val_accuracy: 0.4174 - lr: 0.0010\n",
      "Epoch 42/50\n",
      "49/49 [==============================] - 5s 93ms/step - loss: 1.2260 - accuracy: 0.5282 - val_loss: 1.5700 - val_accuracy: 0.4406 - lr: 0.0010\n",
      "Epoch 43/50\n",
      "49/49 [==============================] - 5s 94ms/step - loss: 1.1894 - accuracy: 0.5301 - val_loss: 1.4599 - val_accuracy: 0.4473 - lr: 0.0010\n",
      "Epoch 44/50\n",
      "49/49 [==============================] - 5s 93ms/step - loss: 1.2078 - accuracy: 0.5404 - val_loss: 1.5162 - val_accuracy: 0.4174 - lr: 0.0010\n",
      "Epoch 45/50\n",
      "49/49 [==============================] - 4s 91ms/step - loss: 1.1636 - accuracy: 0.5491 - val_loss: 1.4942 - val_accuracy: 0.4386 - lr: 0.0010\n",
      "Epoch 46/50\n",
      "49/49 [==============================] - 5s 94ms/step - loss: 1.1674 - accuracy: 0.5488 - val_loss: 1.5146 - val_accuracy: 0.4415 - lr: 0.0010\n",
      "Epoch 47/50\n",
      "49/49 [==============================] - 5s 96ms/step - loss: 1.1362 - accuracy: 0.5630 - val_loss: 1.5173 - val_accuracy: 0.4599 - lr: 0.0010\n",
      "Epoch 48/50\n",
      "49/49 [==============================] - 4s 91ms/step - loss: 1.1026 - accuracy: 0.5694 - val_loss: 1.4993 - val_accuracy: 0.4560 - lr: 0.0010\n",
      "Epoch 49/50\n",
      "49/49 [==============================] - 5s 92ms/step - loss: 1.1083 - accuracy: 0.5742 - val_loss: 1.5262 - val_accuracy: 0.4667 - lr: 0.0010\n",
      "Epoch 50/50\n",
      "49/49 [==============================] - 5s 93ms/step - loss: 1.1139 - accuracy: 0.5826 - val_loss: 1.5406 - val_accuracy: 0.4512 - lr: 0.0010\n"
     ]
    }
   ],
   "source": [
    "rlrp = ReduceLROnPlateau(monitor='loss', factor=0.4, verbose=0, patience=2, min_lr=0.0000001)\n",
    "history=model.fit(x_train, y_train, batch_size=64, epochs=50, validation_data=(x_test, y_test), callbacks=[rlrp])"
   ]
  },
  {
   "cell_type": "code",
   "execution_count": 678,
   "metadata": {},
   "outputs": [
    {
     "data": {
      "text/plain": [
       "(1035, 1)"
      ]
     },
     "execution_count": 678,
     "metadata": {},
     "output_type": "execute_result"
    }
   ],
   "source": [
    "y_test.shape"
   ]
  },
  {
   "cell_type": "code",
   "execution_count": 655,
   "metadata": {},
   "outputs": [
    {
     "name": "stdout",
     "output_type": "stream",
     "text": [
      "33/33 [==============================] - 0s 11ms/step - loss: 1.7713 - accuracy: 0.2908\n",
      "Accuracy of our model on test data :  29.082125425338745 %\n"
     ]
    },
    {
     "ename": "ValueError",
     "evalue": "x and y must have same first dimension, but have shapes (50,) and (10,)",
     "output_type": "error",
     "traceback": [
      "\u001b[0;31m---------------------------------------------------------------------------\u001b[0m",
      "\u001b[0;31mValueError\u001b[0m                                Traceback (most recent call last)",
      "\u001b[0;32m/var/folders/m3/ywsrz7k170vbk8511l1h_6840000gn/T/ipykernel_10403/2878951498.py\u001b[0m in \u001b[0;36m<module>\u001b[0;34m\u001b[0m\n\u001b[1;32m      9\u001b[0m \u001b[0;34m\u001b[0m\u001b[0m\n\u001b[1;32m     10\u001b[0m \u001b[0mfig\u001b[0m\u001b[0;34m.\u001b[0m\u001b[0mset_size_inches\u001b[0m\u001b[0;34m(\u001b[0m\u001b[0;36m20\u001b[0m\u001b[0;34m,\u001b[0m\u001b[0;36m6\u001b[0m\u001b[0;34m)\u001b[0m\u001b[0;34m\u001b[0m\u001b[0;34m\u001b[0m\u001b[0m\n\u001b[0;32m---> 11\u001b[0;31m \u001b[0max\u001b[0m\u001b[0;34m[\u001b[0m\u001b[0;36m0\u001b[0m\u001b[0;34m]\u001b[0m\u001b[0;34m.\u001b[0m\u001b[0mplot\u001b[0m\u001b[0;34m(\u001b[0m\u001b[0mepochs\u001b[0m \u001b[0;34m,\u001b[0m \u001b[0mtrain_loss\u001b[0m \u001b[0;34m,\u001b[0m \u001b[0mlabel\u001b[0m \u001b[0;34m=\u001b[0m \u001b[0;34m'Training Loss'\u001b[0m\u001b[0;34m)\u001b[0m\u001b[0;34m\u001b[0m\u001b[0;34m\u001b[0m\u001b[0m\n\u001b[0m\u001b[1;32m     12\u001b[0m \u001b[0max\u001b[0m\u001b[0;34m[\u001b[0m\u001b[0;36m0\u001b[0m\u001b[0;34m]\u001b[0m\u001b[0;34m.\u001b[0m\u001b[0mplot\u001b[0m\u001b[0;34m(\u001b[0m\u001b[0mepochs\u001b[0m \u001b[0;34m,\u001b[0m \u001b[0mtest_loss\u001b[0m \u001b[0;34m,\u001b[0m \u001b[0mlabel\u001b[0m \u001b[0;34m=\u001b[0m \u001b[0;34m'Testing Loss'\u001b[0m\u001b[0;34m)\u001b[0m\u001b[0;34m\u001b[0m\u001b[0;34m\u001b[0m\u001b[0m\n\u001b[1;32m     13\u001b[0m \u001b[0max\u001b[0m\u001b[0;34m[\u001b[0m\u001b[0;36m0\u001b[0m\u001b[0;34m]\u001b[0m\u001b[0;34m.\u001b[0m\u001b[0mset_title\u001b[0m\u001b[0;34m(\u001b[0m\u001b[0;34m'Training & Testing Loss'\u001b[0m\u001b[0;34m)\u001b[0m\u001b[0;34m\u001b[0m\u001b[0;34m\u001b[0m\u001b[0m\n",
      "\u001b[0;32m~/opt/anaconda3/envs/torch_env/lib/python3.9/site-packages/matplotlib/axes/_axes.py\u001b[0m in \u001b[0;36mplot\u001b[0;34m(self, scalex, scaley, data, *args, **kwargs)\u001b[0m\n\u001b[1;32m   1603\u001b[0m         \"\"\"\n\u001b[1;32m   1604\u001b[0m         \u001b[0mkwargs\u001b[0m \u001b[0;34m=\u001b[0m \u001b[0mcbook\u001b[0m\u001b[0;34m.\u001b[0m\u001b[0mnormalize_kwargs\u001b[0m\u001b[0;34m(\u001b[0m\u001b[0mkwargs\u001b[0m\u001b[0;34m,\u001b[0m \u001b[0mmlines\u001b[0m\u001b[0;34m.\u001b[0m\u001b[0mLine2D\u001b[0m\u001b[0;34m)\u001b[0m\u001b[0;34m\u001b[0m\u001b[0;34m\u001b[0m\u001b[0m\n\u001b[0;32m-> 1605\u001b[0;31m         \u001b[0mlines\u001b[0m \u001b[0;34m=\u001b[0m \u001b[0;34m[\u001b[0m\u001b[0;34m*\u001b[0m\u001b[0mself\u001b[0m\u001b[0;34m.\u001b[0m\u001b[0m_get_lines\u001b[0m\u001b[0;34m(\u001b[0m\u001b[0;34m*\u001b[0m\u001b[0margs\u001b[0m\u001b[0;34m,\u001b[0m \u001b[0mdata\u001b[0m\u001b[0;34m=\u001b[0m\u001b[0mdata\u001b[0m\u001b[0;34m,\u001b[0m \u001b[0;34m**\u001b[0m\u001b[0mkwargs\u001b[0m\u001b[0;34m)\u001b[0m\u001b[0;34m]\u001b[0m\u001b[0;34m\u001b[0m\u001b[0;34m\u001b[0m\u001b[0m\n\u001b[0m\u001b[1;32m   1606\u001b[0m         \u001b[0;32mfor\u001b[0m \u001b[0mline\u001b[0m \u001b[0;32min\u001b[0m \u001b[0mlines\u001b[0m\u001b[0;34m:\u001b[0m\u001b[0;34m\u001b[0m\u001b[0;34m\u001b[0m\u001b[0m\n\u001b[1;32m   1607\u001b[0m             \u001b[0mself\u001b[0m\u001b[0;34m.\u001b[0m\u001b[0madd_line\u001b[0m\u001b[0;34m(\u001b[0m\u001b[0mline\u001b[0m\u001b[0;34m)\u001b[0m\u001b[0;34m\u001b[0m\u001b[0;34m\u001b[0m\u001b[0m\n",
      "\u001b[0;32m~/opt/anaconda3/envs/torch_env/lib/python3.9/site-packages/matplotlib/axes/_base.py\u001b[0m in \u001b[0;36m__call__\u001b[0;34m(self, data, *args, **kwargs)\u001b[0m\n\u001b[1;32m    313\u001b[0m                 \u001b[0mthis\u001b[0m \u001b[0;34m+=\u001b[0m \u001b[0margs\u001b[0m\u001b[0;34m[\u001b[0m\u001b[0;36m0\u001b[0m\u001b[0;34m]\u001b[0m\u001b[0;34m,\u001b[0m\u001b[0;34m\u001b[0m\u001b[0;34m\u001b[0m\u001b[0m\n\u001b[1;32m    314\u001b[0m                 \u001b[0margs\u001b[0m \u001b[0;34m=\u001b[0m \u001b[0margs\u001b[0m\u001b[0;34m[\u001b[0m\u001b[0;36m1\u001b[0m\u001b[0;34m:\u001b[0m\u001b[0;34m]\u001b[0m\u001b[0;34m\u001b[0m\u001b[0;34m\u001b[0m\u001b[0m\n\u001b[0;32m--> 315\u001b[0;31m             \u001b[0;32myield\u001b[0m \u001b[0;32mfrom\u001b[0m \u001b[0mself\u001b[0m\u001b[0;34m.\u001b[0m\u001b[0m_plot_args\u001b[0m\u001b[0;34m(\u001b[0m\u001b[0mthis\u001b[0m\u001b[0;34m,\u001b[0m \u001b[0mkwargs\u001b[0m\u001b[0;34m)\u001b[0m\u001b[0;34m\u001b[0m\u001b[0;34m\u001b[0m\u001b[0m\n\u001b[0m\u001b[1;32m    316\u001b[0m \u001b[0;34m\u001b[0m\u001b[0m\n\u001b[1;32m    317\u001b[0m     \u001b[0;32mdef\u001b[0m \u001b[0mget_next_color\u001b[0m\u001b[0;34m(\u001b[0m\u001b[0mself\u001b[0m\u001b[0;34m)\u001b[0m\u001b[0;34m:\u001b[0m\u001b[0;34m\u001b[0m\u001b[0;34m\u001b[0m\u001b[0m\n",
      "\u001b[0;32m~/opt/anaconda3/envs/torch_env/lib/python3.9/site-packages/matplotlib/axes/_base.py\u001b[0m in \u001b[0;36m_plot_args\u001b[0;34m(self, tup, kwargs, return_kwargs)\u001b[0m\n\u001b[1;32m    499\u001b[0m \u001b[0;34m\u001b[0m\u001b[0m\n\u001b[1;32m    500\u001b[0m         \u001b[0;32mif\u001b[0m \u001b[0mx\u001b[0m\u001b[0;34m.\u001b[0m\u001b[0mshape\u001b[0m\u001b[0;34m[\u001b[0m\u001b[0;36m0\u001b[0m\u001b[0;34m]\u001b[0m \u001b[0;34m!=\u001b[0m \u001b[0my\u001b[0m\u001b[0;34m.\u001b[0m\u001b[0mshape\u001b[0m\u001b[0;34m[\u001b[0m\u001b[0;36m0\u001b[0m\u001b[0;34m]\u001b[0m\u001b[0;34m:\u001b[0m\u001b[0;34m\u001b[0m\u001b[0;34m\u001b[0m\u001b[0m\n\u001b[0;32m--> 501\u001b[0;31m             raise ValueError(f\"x and y must have same first dimension, but \"\n\u001b[0m\u001b[1;32m    502\u001b[0m                              f\"have shapes {x.shape} and {y.shape}\")\n\u001b[1;32m    503\u001b[0m         \u001b[0;32mif\u001b[0m \u001b[0mx\u001b[0m\u001b[0;34m.\u001b[0m\u001b[0mndim\u001b[0m \u001b[0;34m>\u001b[0m \u001b[0;36m2\u001b[0m \u001b[0;32mor\u001b[0m \u001b[0my\u001b[0m\u001b[0;34m.\u001b[0m\u001b[0mndim\u001b[0m \u001b[0;34m>\u001b[0m \u001b[0;36m2\u001b[0m\u001b[0;34m:\u001b[0m\u001b[0;34m\u001b[0m\u001b[0;34m\u001b[0m\u001b[0m\n",
      "\u001b[0;31mValueError\u001b[0m: x and y must have same first dimension, but have shapes (50,) and (10,)"
     ]
    },
    {
     "data": {
      "image/png": "[encoded data removed]",
      "text/plain": [
       "<Figure size 1440x432 with 2 Axes>"
      ]
     },
     "metadata": {
      "needs_background": "light"
     },
     "output_type": "display_data"
    }
   ],
   "source": [
    "print(\"Accuracy of our model on test data : \" , model.evaluate(x_test,y_test)[1]*100 , \"%\")\n",
    "\n",
    "epochs = [i for i in range(50)]\n",
    "fig , ax = plt.subplots(1,2)\n",
    "train_acc = history.history['accuracy']\n",
    "train_loss = history.history['loss']\n",
    "test_acc = history.history['val_accuracy']\n",
    "test_loss = history.history['val_loss']\n",
    "\n",
    "fig.set_size_inches(20,6)\n",
    "ax[0].plot(epochs , train_loss , label = 'Training Loss')\n",
    "ax[0].plot(epochs , test_loss , label = 'Testing Loss')\n",
    "ax[0].set_title('Training & Testing Loss')\n",
    "ax[0].legend()\n",
    "ax[0].set_xlabel(\"Epochs\")\n",
    "\n",
    "ax[1].plot(epochs , train_acc , label = 'Training Accuracy')\n",
    "ax[1].plot(epochs , test_acc , label = 'Testing Accuracy')\n",
    "ax[1].set_title('Training & Testing Accuracy')\n",
    "ax[1].legend()\n",
    "ax[1].set_xlabel(\"Epochs\")\n",
    "plt.show()"
   ]
  },
  {
   "cell_type": "code",
   "execution_count": 671,
   "metadata": {},
   "outputs": [],
   "source": [
    "# predicting on test data.\n",
    "pred_test = model.predict(x_test)\n",
    "y_pred = encoder.inverse_transform(pred_test)\n",
    "\n",
    "y_test = encoder.inverse_transform(y_test)"
   ]
  },
  {
   "cell_type": "code",
   "execution_count": 672,
   "metadata": {},
   "outputs": [
    {
     "data": {
      "text/html": [
       "<div>\n",
       "<style scoped>\n",
       "    .dataframe tbody tr th:only-of-type {\n",
       "        vertical-align: middle;\n",
       "    }\n",
       "\n",
       "    .dataframe tbody tr th {\n",
       "        vertical-align: top;\n",
       "    }\n",
       "\n",
       "    .dataframe thead th {\n",
       "        text-align: right;\n",
       "    }\n",
       "</style>\n",
       "<table border=\"1\" class=\"dataframe\">\n",
       "  <thead>\n",
       "    <tr style=\"text-align: right;\">\n",
       "      <th></th>\n",
       "      <th>Predicted Labels</th>\n",
       "      <th>Actual Labels</th>\n",
       "    </tr>\n",
       "  </thead>\n",
       "  <tbody>\n",
       "    <tr>\n",
       "      <th>0</th>\n",
       "      <td>calm</td>\n",
       "      <td>sad</td>\n",
       "    </tr>\n",
       "    <tr>\n",
       "      <th>1</th>\n",
       "      <td>calm</td>\n",
       "      <td>calm</td>\n",
       "    </tr>\n",
       "    <tr>\n",
       "      <th>2</th>\n",
       "      <td>happy</td>\n",
       "      <td>happy</td>\n",
       "    </tr>\n",
       "    <tr>\n",
       "      <th>3</th>\n",
       "      <td>surprised</td>\n",
       "      <td>surprised</td>\n",
       "    </tr>\n",
       "    <tr>\n",
       "      <th>4</th>\n",
       "      <td>disgust</td>\n",
       "      <td>disgust</td>\n",
       "    </tr>\n",
       "    <tr>\n",
       "      <th>5</th>\n",
       "      <td>surprised</td>\n",
       "      <td>neutral</td>\n",
       "    </tr>\n",
       "    <tr>\n",
       "      <th>6</th>\n",
       "      <td>surprised</td>\n",
       "      <td>calm</td>\n",
       "    </tr>\n",
       "    <tr>\n",
       "      <th>7</th>\n",
       "      <td>happy</td>\n",
       "      <td>angry</td>\n",
       "    </tr>\n",
       "    <tr>\n",
       "      <th>8</th>\n",
       "      <td>calm</td>\n",
       "      <td>calm</td>\n",
       "    </tr>\n",
       "    <tr>\n",
       "      <th>9</th>\n",
       "      <td>calm</td>\n",
       "      <td>calm</td>\n",
       "    </tr>\n",
       "  </tbody>\n",
       "</table>\n",
       "</div>"
      ],
      "text/plain": [
       "  Predicted Labels Actual Labels\n",
       "0             calm           sad\n",
       "1             calm          calm\n",
       "2            happy         happy\n",
       "3        surprised     surprised\n",
       "4          disgust       disgust\n",
       "5        surprised       neutral\n",
       "6        surprised          calm\n",
       "7            happy         angry\n",
       "8             calm          calm\n",
       "9             calm          calm"
      ]
     },
     "execution_count": 672,
     "metadata": {},
     "output_type": "execute_result"
    }
   ],
   "source": [
    "df = pd.DataFrame(columns=['Predicted Labels', 'Actual Labels'])\n",
    "df['Predicted Labels'] = y_pred.flatten()\n",
    "df['Actual Labels'] = y_test.flatten()\n",
    "\n",
    "df.head(10)"
   ]
  },
  {
   "cell_type": "code",
   "execution_count": 673,
   "metadata": {},
   "outputs": [
    {
     "data": {
      "image/png": "[encoded data removed]",
      "text/plain": [
       "<Figure size 864x720 with 2 Axes>"
      ]
     },
     "metadata": {
      "needs_background": "light"
     },
     "output_type": "display_data"
    }
   ],
   "source": [
    "cm = confusion_matrix(y_test, y_pred)\n",
    "plt.figure(figsize = (12, 10))\n",
    "cm = pd.DataFrame(cm , index = [i for i in encoder.categories_] , columns = [i for i in encoder.categories_])\n",
    "sns.heatmap(cm, linecolor='white', cmap='Blues', linewidth=1, annot=True, fmt='')\n",
    "plt.title('Confusion Matrix', size=20)\n",
    "plt.xlabel('Predicted Labels', size=14)\n",
    "plt.ylabel('Actual Labels', size=14)\n",
    "plt.show()"
   ]
  },
  {
   "cell_type": "code",
   "execution_count": 674,
   "metadata": {},
   "outputs": [
    {
     "name": "stdout",
     "output_type": "stream",
     "text": [
      "              precision    recall  f1-score   support\n",
      "\n",
      "       angry       0.79      0.52      0.62       124\n",
      "        calm       0.53      0.78      0.63       143\n",
      "     disgust       0.41      0.41      0.41       137\n",
      "     fearful       0.58      0.39      0.46       140\n",
      "       happy       0.42      0.37      0.40       139\n",
      "     neutral       0.40      0.09      0.15        67\n",
      "         sad       0.47      0.31      0.37       153\n",
      "   surprised       0.28      0.58      0.37       132\n",
      "\n",
      "    accuracy                           0.45      1035\n",
      "   macro avg       0.48      0.43      0.43      1035\n",
      "weighted avg       0.49      0.45      0.44      1035\n",
      "\n"
     ]
    }
   ],
   "source": [
    "print(classification_report(y_test, y_pred))"
   ]
  },
  {
   "cell_type": "code",
   "execution_count": null,
   "metadata": {},
   "outputs": [],
   "source": []
  },
  {
   "cell_type": "markdown",
   "metadata": {},
   "source": [
    "Biggest Challenge: Dealing with combining features and reshaping dimensions to fit CNN. Although overfitting has been solved with data augmentation. One challenge is dealing with feature extraction which now takes up sometime because of vertically stacking feature outputs into arrays. \n",
    "\n",
    "\n",
    "Today: worked on new feature extractions and applied audio data augmentation which has significantly improved overfitting although runtime has also increased signaifiantlly. MVP model is finished and markdown is almost complete. Readme has begun. \n",
    "\n",
    "Next: may attempt at adding the singing portion of the dataset since its already there and in the same format as the speech dataset. \n",
    "\n",
    "Issues: runtime has significantly increased but the trade off is a less overfit model. "
   ]
  }
 ],
 "metadata": {
  "interpreter": {
   "hash": "f3358073929bd3d27ff594bc6528257efc4213b34ba9d7c6bd240dce3a23a83d"
  },
  "kernelspec": {
   "display_name": "Python 3.9.7 64-bit ('torch_env': conda)",
   "language": "python",
   "name": "python3"
  },
  "language_info": {
   "codemirror_mode": {
    "name": "ipython",
    "version": 3
   },
   "file_extension": ".py",
   "mimetype": "text/x-python",
   "name": "python",
   "nbconvert_exporter": "python",
   "pygments_lexer": "ipython3",
   "version": "3.9.7"
  },
  "orig_nbformat": 4
 },
 "nbformat": 4,
 "nbformat_minor": 2
}
