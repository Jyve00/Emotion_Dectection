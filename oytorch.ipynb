{
 "cells": [
  {
   "cell_type": "code",
   "execution_count": 93,
   "metadata": {},
   "outputs": [],
   "source": [
    "import numpy as np \n",
    "import pandas as pd \n",
    "import os \n",
    "import matplotlib.pyplot as plt\n",
    "import seaborn as sns\n",
    "import torch \n",
    "import torchaudio\n",
    "from torch.utils.data import DataLoader\n",
    "import torch.nn as nn\n",
    "import torch.nn.functional as F\n",
    "# https://www.kaggle.com/karthik999/pytorch-human-speech-classification"
   ]
  },
  {
   "cell_type": "code",
   "execution_count": 94,
   "metadata": {},
   "outputs": [],
   "source": [
    "\n",
    "num_epochs = 50\n",
    "num_classes = 8\n",
    "batch_size = 5\n",
    "learning_rate = 0.000001\n",
    "\n",
    "sample_rate = 16000\n",
    "n_mels = 128\n",
    "n_mfcc = 40 "
   ]
  },
  {
   "cell_type": "code",
   "execution_count": 95,
   "metadata": {},
   "outputs": [],
   "source": [
    "modality = {'01':'full_av','02':'video_only','03':'audio_only'}\n",
    "vocal_channel = {'01':'speech','02':'song'}\n",
    "emotion = {'01':'neutral','02':'calm','03':'happy','04':'sad','05':'angry','06':'fearful','07':'disgust','08':'surprised'}\n",
    "emotional_intensity = {'01':'normal','02':'strong'}\n",
    "statement = {'01':'Kids are talking by the door','02':'Dogs are sitting by the door'}\n",
    "reptition = {'01':'first_repitition','02':'second_repetition'}\n",
    "def actor_f(num):\n",
    "    if int(num)%2==0: return('female')\n",
    "    else: return('male')"
   ]
  },
  {
   "cell_type": "code",
   "execution_count": 96,
   "metadata": {},
   "outputs": [
    {
     "data": {
      "text/plain": [
       "['Actor_01',\n",
       " 'Actor_02',\n",
       " 'Actor_03',\n",
       " 'Actor_04',\n",
       " 'Actor_05',\n",
       " 'Actor_06',\n",
       " 'Actor_07',\n",
       " 'Actor_08',\n",
       " 'Actor_09',\n",
       " 'Actor_10',\n",
       " 'Actor_11',\n",
       " 'Actor_12',\n",
       " 'Actor_13',\n",
       " 'Actor_14',\n",
       " 'Actor_15',\n",
       " 'Actor_16',\n",
       " 'Actor_17',\n",
       " 'Actor_18',\n",
       " 'Actor_19',\n",
       " 'Actor_20',\n",
       " 'Actor_21',\n",
       " 'Actor_22',\n",
       " 'Actor_23']"
      ]
     },
     "execution_count": 96,
     "metadata": {},
     "output_type": "execute_result"
    }
   ],
   "source": [
    "actors = sorted(os.listdir('/Users/stephen/Emotion_Dectection/data/RAVDESS/Audio_Speech_Actors_01-24'))\n",
    "actors.pop()\n",
    "actors"
   ]
  },
  {
   "cell_type": "code",
   "execution_count": 97,
   "metadata": {},
   "outputs": [],
   "source": [
    "audio_file_dict = {}\n",
    "for actor in actors:\n",
    "    actor_dir = os.path.join('/Users/stephen/Emotion_Dectection/data/RAVDESS/Audio_Speech_Actors_01-24',actor)\n",
    "    actor_files = os.listdir(actor_dir)\n",
    "    actor_dict = [i.replace(\".wav\",\"\").split(\"-\") for i in actor_files]\n",
    "    dict_entry = {os.path.join(actor_dir,i):j for i,j in zip(actor_files,actor_dict)}\n",
    "    audio_file_dict.update(dict_entry)"
   ]
  },
  {
   "cell_type": "code",
   "execution_count": 98,
   "metadata": {},
   "outputs": [
    {
     "data": {
      "text/html": [
       "<div>\n",
       "<style scoped>\n",
       "    .dataframe tbody tr th:only-of-type {\n",
       "        vertical-align: middle;\n",
       "    }\n",
       "\n",
       "    .dataframe tbody tr th {\n",
       "        vertical-align: top;\n",
       "    }\n",
       "\n",
       "    .dataframe thead th {\n",
       "        text-align: right;\n",
       "    }\n",
       "</style>\n",
       "<table border=\"1\" class=\"dataframe\">\n",
       "  <thead>\n",
       "    <tr style=\"text-align: right;\">\n",
       "      <th></th>\n",
       "      <th>modality</th>\n",
       "      <th>vocal_channel</th>\n",
       "      <th>emotion</th>\n",
       "      <th>emotional_intensity</th>\n",
       "      <th>statement</th>\n",
       "      <th>repetition</th>\n",
       "      <th>actor</th>\n",
       "    </tr>\n",
       "  </thead>\n",
       "  <tbody>\n",
       "    <tr>\n",
       "      <th>/Users/stephen/Emotion_Dectection/data/RAVDESS/Audio_Speech_Actors_01-24/Actor_01/03-01-08-02-02-01-01.wav</th>\n",
       "      <td>03</td>\n",
       "      <td>01</td>\n",
       "      <td>08</td>\n",
       "      <td>02</td>\n",
       "      <td>02</td>\n",
       "      <td>01</td>\n",
       "      <td>01</td>\n",
       "    </tr>\n",
       "    <tr>\n",
       "      <th>/Users/stephen/Emotion_Dectection/data/RAVDESS/Audio_Speech_Actors_01-24/Actor_01/03-01-08-01-01-01-01.wav</th>\n",
       "      <td>03</td>\n",
       "      <td>01</td>\n",
       "      <td>08</td>\n",
       "      <td>01</td>\n",
       "      <td>01</td>\n",
       "      <td>01</td>\n",
       "      <td>01</td>\n",
       "    </tr>\n",
       "    <tr>\n",
       "      <th>/Users/stephen/Emotion_Dectection/data/RAVDESS/Audio_Speech_Actors_01-24/Actor_01/03-01-05-01-02-01-01.wav</th>\n",
       "      <td>03</td>\n",
       "      <td>01</td>\n",
       "      <td>05</td>\n",
       "      <td>01</td>\n",
       "      <td>02</td>\n",
       "      <td>01</td>\n",
       "      <td>01</td>\n",
       "    </tr>\n",
       "    <tr>\n",
       "      <th>/Users/stephen/Emotion_Dectection/data/RAVDESS/Audio_Speech_Actors_01-24/Actor_01/03-01-06-01-02-02-01.wav</th>\n",
       "      <td>03</td>\n",
       "      <td>01</td>\n",
       "      <td>06</td>\n",
       "      <td>01</td>\n",
       "      <td>02</td>\n",
       "      <td>02</td>\n",
       "      <td>01</td>\n",
       "    </tr>\n",
       "    <tr>\n",
       "      <th>/Users/stephen/Emotion_Dectection/data/RAVDESS/Audio_Speech_Actors_01-24/Actor_01/03-01-06-02-01-02-01.wav</th>\n",
       "      <td>03</td>\n",
       "      <td>01</td>\n",
       "      <td>06</td>\n",
       "      <td>02</td>\n",
       "      <td>01</td>\n",
       "      <td>02</td>\n",
       "      <td>01</td>\n",
       "    </tr>\n",
       "    <tr>\n",
       "      <th>...</th>\n",
       "      <td>...</td>\n",
       "      <td>...</td>\n",
       "      <td>...</td>\n",
       "      <td>...</td>\n",
       "      <td>...</td>\n",
       "      <td>...</td>\n",
       "      <td>...</td>\n",
       "    </tr>\n",
       "    <tr>\n",
       "      <th>/Users/stephen/Emotion_Dectection/data/RAVDESS/Audio_Speech_Actors_01-24/Actor_23/03-01-03-02-02-02-23.wav</th>\n",
       "      <td>03</td>\n",
       "      <td>01</td>\n",
       "      <td>03</td>\n",
       "      <td>02</td>\n",
       "      <td>02</td>\n",
       "      <td>02</td>\n",
       "      <td>23</td>\n",
       "    </tr>\n",
       "    <tr>\n",
       "      <th>/Users/stephen/Emotion_Dectection/data/RAVDESS/Audio_Speech_Actors_01-24/Actor_23/03-01-03-01-01-02-23.wav</th>\n",
       "      <td>03</td>\n",
       "      <td>01</td>\n",
       "      <td>03</td>\n",
       "      <td>01</td>\n",
       "      <td>01</td>\n",
       "      <td>02</td>\n",
       "      <td>23</td>\n",
       "    </tr>\n",
       "    <tr>\n",
       "      <th>/Users/stephen/Emotion_Dectection/data/RAVDESS/Audio_Speech_Actors_01-24/Actor_23/03-01-02-02-01-01-23.wav</th>\n",
       "      <td>03</td>\n",
       "      <td>01</td>\n",
       "      <td>02</td>\n",
       "      <td>02</td>\n",
       "      <td>01</td>\n",
       "      <td>01</td>\n",
       "      <td>23</td>\n",
       "    </tr>\n",
       "    <tr>\n",
       "      <th>/Users/stephen/Emotion_Dectection/data/RAVDESS/Audio_Speech_Actors_01-24/Actor_23/03-01-02-01-02-01-23.wav</th>\n",
       "      <td>03</td>\n",
       "      <td>01</td>\n",
       "      <td>02</td>\n",
       "      <td>01</td>\n",
       "      <td>02</td>\n",
       "      <td>01</td>\n",
       "      <td>23</td>\n",
       "    </tr>\n",
       "    <tr>\n",
       "      <th>/Users/stephen/Emotion_Dectection/data/RAVDESS/Audio_Speech_Actors_01-24/Actor_23/03-01-01-01-02-02-23.wav</th>\n",
       "      <td>03</td>\n",
       "      <td>01</td>\n",
       "      <td>01</td>\n",
       "      <td>01</td>\n",
       "      <td>02</td>\n",
       "      <td>02</td>\n",
       "      <td>23</td>\n",
       "    </tr>\n",
       "  </tbody>\n",
       "</table>\n",
       "<p>1380 rows × 7 columns</p>\n",
       "</div>"
      ],
      "text/plain": [
       "                                                   modality vocal_channel  \\\n",
       "/Users/stephen/Emotion_Dectection/data/RAVDESS/...       03            01   \n",
       "/Users/stephen/Emotion_Dectection/data/RAVDESS/...       03            01   \n",
       "/Users/stephen/Emotion_Dectection/data/RAVDESS/...       03            01   \n",
       "/Users/stephen/Emotion_Dectection/data/RAVDESS/...       03            01   \n",
       "/Users/stephen/Emotion_Dectection/data/RAVDESS/...       03            01   \n",
       "...                                                     ...           ...   \n",
       "/Users/stephen/Emotion_Dectection/data/RAVDESS/...       03            01   \n",
       "/Users/stephen/Emotion_Dectection/data/RAVDESS/...       03            01   \n",
       "/Users/stephen/Emotion_Dectection/data/RAVDESS/...       03            01   \n",
       "/Users/stephen/Emotion_Dectection/data/RAVDESS/...       03            01   \n",
       "/Users/stephen/Emotion_Dectection/data/RAVDESS/...       03            01   \n",
       "\n",
       "                                                   emotion  \\\n",
       "/Users/stephen/Emotion_Dectection/data/RAVDESS/...      08   \n",
       "/Users/stephen/Emotion_Dectection/data/RAVDESS/...      08   \n",
       "/Users/stephen/Emotion_Dectection/data/RAVDESS/...      05   \n",
       "/Users/stephen/Emotion_Dectection/data/RAVDESS/...      06   \n",
       "/Users/stephen/Emotion_Dectection/data/RAVDESS/...      06   \n",
       "...                                                    ...   \n",
       "/Users/stephen/Emotion_Dectection/data/RAVDESS/...      03   \n",
       "/Users/stephen/Emotion_Dectection/data/RAVDESS/...      03   \n",
       "/Users/stephen/Emotion_Dectection/data/RAVDESS/...      02   \n",
       "/Users/stephen/Emotion_Dectection/data/RAVDESS/...      02   \n",
       "/Users/stephen/Emotion_Dectection/data/RAVDESS/...      01   \n",
       "\n",
       "                                                   emotional_intensity  \\\n",
       "/Users/stephen/Emotion_Dectection/data/RAVDESS/...                  02   \n",
       "/Users/stephen/Emotion_Dectection/data/RAVDESS/...                  01   \n",
       "/Users/stephen/Emotion_Dectection/data/RAVDESS/...                  01   \n",
       "/Users/stephen/Emotion_Dectection/data/RAVDESS/...                  01   \n",
       "/Users/stephen/Emotion_Dectection/data/RAVDESS/...                  02   \n",
       "...                                                                ...   \n",
       "/Users/stephen/Emotion_Dectection/data/RAVDESS/...                  02   \n",
       "/Users/stephen/Emotion_Dectection/data/RAVDESS/...                  01   \n",
       "/Users/stephen/Emotion_Dectection/data/RAVDESS/...                  02   \n",
       "/Users/stephen/Emotion_Dectection/data/RAVDESS/...                  01   \n",
       "/Users/stephen/Emotion_Dectection/data/RAVDESS/...                  01   \n",
       "\n",
       "                                                   statement repetition actor  \n",
       "/Users/stephen/Emotion_Dectection/data/RAVDESS/...        02         01    01  \n",
       "/Users/stephen/Emotion_Dectection/data/RAVDESS/...        01         01    01  \n",
       "/Users/stephen/Emotion_Dectection/data/RAVDESS/...        02         01    01  \n",
       "/Users/stephen/Emotion_Dectection/data/RAVDESS/...        02         02    01  \n",
       "/Users/stephen/Emotion_Dectection/data/RAVDESS/...        01         02    01  \n",
       "...                                                      ...        ...   ...  \n",
       "/Users/stephen/Emotion_Dectection/data/RAVDESS/...        02         02    23  \n",
       "/Users/stephen/Emotion_Dectection/data/RAVDESS/...        01         02    23  \n",
       "/Users/stephen/Emotion_Dectection/data/RAVDESS/...        01         01    23  \n",
       "/Users/stephen/Emotion_Dectection/data/RAVDESS/...        02         01    23  \n",
       "/Users/stephen/Emotion_Dectection/data/RAVDESS/...        02         02    23  \n",
       "\n",
       "[1380 rows x 7 columns]"
      ]
     },
     "execution_count": 98,
     "metadata": {},
     "output_type": "execute_result"
    }
   ],
   "source": [
    "audio_file_dict = pd.DataFrame(audio_file_dict).T\n",
    "audio_file_dict.columns = ['modality','vocal_channel','emotion','emotional_intensity','statement','repetition','actor']\n",
    "audio_file_dict"
   ]
  },
  {
   "cell_type": "code",
   "execution_count": 99,
   "metadata": {},
   "outputs": [],
   "source": [
    "audio_file_dict.modality = audio_file_dict.modality.map(modality)\n",
    "audio_file_dict.vocal_channel = audio_file_dict.vocal_channel.map(vocal_channel)\n",
    "audio_file_dict.emotion = audio_file_dict.emotion.map(emotion)\n",
    "audio_file_dict.emotional_intensity = audio_file_dict.emotional_intensity.map(emotional_intensity)\n",
    "audio_file_dict.statement = audio_file_dict.statement.map(statement)\n",
    "audio_file_dict.repetition = audio_file_dict.repetition.map(reptition)\n",
    "audio_file_dict['actor_sex'] = audio_file_dict.actor.apply(actor_f)"
   ]
  },
  {
   "cell_type": "code",
   "execution_count": 100,
   "metadata": {},
   "outputs": [
    {
     "data": {
      "text/html": [
       "<div>\n",
       "<style scoped>\n",
       "    .dataframe tbody tr th:only-of-type {\n",
       "        vertical-align: middle;\n",
       "    }\n",
       "\n",
       "    .dataframe tbody tr th {\n",
       "        vertical-align: top;\n",
       "    }\n",
       "\n",
       "    .dataframe thead th {\n",
       "        text-align: right;\n",
       "    }\n",
       "</style>\n",
       "<table border=\"1\" class=\"dataframe\">\n",
       "  <thead>\n",
       "    <tr style=\"text-align: right;\">\n",
       "      <th></th>\n",
       "      <th>modality</th>\n",
       "      <th>vocal_channel</th>\n",
       "      <th>emotion</th>\n",
       "      <th>emotional_intensity</th>\n",
       "      <th>statement</th>\n",
       "      <th>repetition</th>\n",
       "      <th>actor</th>\n",
       "      <th>actor_sex</th>\n",
       "    </tr>\n",
       "  </thead>\n",
       "  <tbody>\n",
       "    <tr>\n",
       "      <th>/Users/stephen/Emotion_Dectection/data/RAVDESS/Audio_Speech_Actors_01-24/Actor_01/03-01-08-02-02-01-01.wav</th>\n",
       "      <td>audio_only</td>\n",
       "      <td>speech</td>\n",
       "      <td>surprised</td>\n",
       "      <td>strong</td>\n",
       "      <td>Dogs are sitting by the door</td>\n",
       "      <td>first_repitition</td>\n",
       "      <td>01</td>\n",
       "      <td>male</td>\n",
       "    </tr>\n",
       "    <tr>\n",
       "      <th>/Users/stephen/Emotion_Dectection/data/RAVDESS/Audio_Speech_Actors_01-24/Actor_01/03-01-08-01-01-01-01.wav</th>\n",
       "      <td>audio_only</td>\n",
       "      <td>speech</td>\n",
       "      <td>surprised</td>\n",
       "      <td>normal</td>\n",
       "      <td>Kids are talking by the door</td>\n",
       "      <td>first_repitition</td>\n",
       "      <td>01</td>\n",
       "      <td>male</td>\n",
       "    </tr>\n",
       "    <tr>\n",
       "      <th>/Users/stephen/Emotion_Dectection/data/RAVDESS/Audio_Speech_Actors_01-24/Actor_01/03-01-05-01-02-01-01.wav</th>\n",
       "      <td>audio_only</td>\n",
       "      <td>speech</td>\n",
       "      <td>angry</td>\n",
       "      <td>normal</td>\n",
       "      <td>Dogs are sitting by the door</td>\n",
       "      <td>first_repitition</td>\n",
       "      <td>01</td>\n",
       "      <td>male</td>\n",
       "    </tr>\n",
       "    <tr>\n",
       "      <th>/Users/stephen/Emotion_Dectection/data/RAVDESS/Audio_Speech_Actors_01-24/Actor_01/03-01-06-01-02-02-01.wav</th>\n",
       "      <td>audio_only</td>\n",
       "      <td>speech</td>\n",
       "      <td>fearful</td>\n",
       "      <td>normal</td>\n",
       "      <td>Dogs are sitting by the door</td>\n",
       "      <td>second_repetition</td>\n",
       "      <td>01</td>\n",
       "      <td>male</td>\n",
       "    </tr>\n",
       "    <tr>\n",
       "      <th>/Users/stephen/Emotion_Dectection/data/RAVDESS/Audio_Speech_Actors_01-24/Actor_01/03-01-06-02-01-02-01.wav</th>\n",
       "      <td>audio_only</td>\n",
       "      <td>speech</td>\n",
       "      <td>fearful</td>\n",
       "      <td>strong</td>\n",
       "      <td>Kids are talking by the door</td>\n",
       "      <td>second_repetition</td>\n",
       "      <td>01</td>\n",
       "      <td>male</td>\n",
       "    </tr>\n",
       "    <tr>\n",
       "      <th>...</th>\n",
       "      <td>...</td>\n",
       "      <td>...</td>\n",
       "      <td>...</td>\n",
       "      <td>...</td>\n",
       "      <td>...</td>\n",
       "      <td>...</td>\n",
       "      <td>...</td>\n",
       "      <td>...</td>\n",
       "    </tr>\n",
       "    <tr>\n",
       "      <th>/Users/stephen/Emotion_Dectection/data/RAVDESS/Audio_Speech_Actors_01-24/Actor_23/03-01-03-02-02-02-23.wav</th>\n",
       "      <td>audio_only</td>\n",
       "      <td>speech</td>\n",
       "      <td>happy</td>\n",
       "      <td>strong</td>\n",
       "      <td>Dogs are sitting by the door</td>\n",
       "      <td>second_repetition</td>\n",
       "      <td>23</td>\n",
       "      <td>male</td>\n",
       "    </tr>\n",
       "    <tr>\n",
       "      <th>/Users/stephen/Emotion_Dectection/data/RAVDESS/Audio_Speech_Actors_01-24/Actor_23/03-01-03-01-01-02-23.wav</th>\n",
       "      <td>audio_only</td>\n",
       "      <td>speech</td>\n",
       "      <td>happy</td>\n",
       "      <td>normal</td>\n",
       "      <td>Kids are talking by the door</td>\n",
       "      <td>second_repetition</td>\n",
       "      <td>23</td>\n",
       "      <td>male</td>\n",
       "    </tr>\n",
       "    <tr>\n",
       "      <th>/Users/stephen/Emotion_Dectection/data/RAVDESS/Audio_Speech_Actors_01-24/Actor_23/03-01-02-02-01-01-23.wav</th>\n",
       "      <td>audio_only</td>\n",
       "      <td>speech</td>\n",
       "      <td>calm</td>\n",
       "      <td>strong</td>\n",
       "      <td>Kids are talking by the door</td>\n",
       "      <td>first_repitition</td>\n",
       "      <td>23</td>\n",
       "      <td>male</td>\n",
       "    </tr>\n",
       "    <tr>\n",
       "      <th>/Users/stephen/Emotion_Dectection/data/RAVDESS/Audio_Speech_Actors_01-24/Actor_23/03-01-02-01-02-01-23.wav</th>\n",
       "      <td>audio_only</td>\n",
       "      <td>speech</td>\n",
       "      <td>calm</td>\n",
       "      <td>normal</td>\n",
       "      <td>Dogs are sitting by the door</td>\n",
       "      <td>first_repitition</td>\n",
       "      <td>23</td>\n",
       "      <td>male</td>\n",
       "    </tr>\n",
       "    <tr>\n",
       "      <th>/Users/stephen/Emotion_Dectection/data/RAVDESS/Audio_Speech_Actors_01-24/Actor_23/03-01-01-01-02-02-23.wav</th>\n",
       "      <td>audio_only</td>\n",
       "      <td>speech</td>\n",
       "      <td>neutral</td>\n",
       "      <td>normal</td>\n",
       "      <td>Dogs are sitting by the door</td>\n",
       "      <td>second_repetition</td>\n",
       "      <td>23</td>\n",
       "      <td>male</td>\n",
       "    </tr>\n",
       "  </tbody>\n",
       "</table>\n",
       "<p>1380 rows × 8 columns</p>\n",
       "</div>"
      ],
      "text/plain": [
       "                                                      modality vocal_channel  \\\n",
       "/Users/stephen/Emotion_Dectection/data/RAVDESS/...  audio_only        speech   \n",
       "/Users/stephen/Emotion_Dectection/data/RAVDESS/...  audio_only        speech   \n",
       "/Users/stephen/Emotion_Dectection/data/RAVDESS/...  audio_only        speech   \n",
       "/Users/stephen/Emotion_Dectection/data/RAVDESS/...  audio_only        speech   \n",
       "/Users/stephen/Emotion_Dectection/data/RAVDESS/...  audio_only        speech   \n",
       "...                                                        ...           ...   \n",
       "/Users/stephen/Emotion_Dectection/data/RAVDESS/...  audio_only        speech   \n",
       "/Users/stephen/Emotion_Dectection/data/RAVDESS/...  audio_only        speech   \n",
       "/Users/stephen/Emotion_Dectection/data/RAVDESS/...  audio_only        speech   \n",
       "/Users/stephen/Emotion_Dectection/data/RAVDESS/...  audio_only        speech   \n",
       "/Users/stephen/Emotion_Dectection/data/RAVDESS/...  audio_only        speech   \n",
       "\n",
       "                                                      emotion  \\\n",
       "/Users/stephen/Emotion_Dectection/data/RAVDESS/...  surprised   \n",
       "/Users/stephen/Emotion_Dectection/data/RAVDESS/...  surprised   \n",
       "/Users/stephen/Emotion_Dectection/data/RAVDESS/...      angry   \n",
       "/Users/stephen/Emotion_Dectection/data/RAVDESS/...    fearful   \n",
       "/Users/stephen/Emotion_Dectection/data/RAVDESS/...    fearful   \n",
       "...                                                       ...   \n",
       "/Users/stephen/Emotion_Dectection/data/RAVDESS/...      happy   \n",
       "/Users/stephen/Emotion_Dectection/data/RAVDESS/...      happy   \n",
       "/Users/stephen/Emotion_Dectection/data/RAVDESS/...       calm   \n",
       "/Users/stephen/Emotion_Dectection/data/RAVDESS/...       calm   \n",
       "/Users/stephen/Emotion_Dectection/data/RAVDESS/...    neutral   \n",
       "\n",
       "                                                   emotional_intensity  \\\n",
       "/Users/stephen/Emotion_Dectection/data/RAVDESS/...              strong   \n",
       "/Users/stephen/Emotion_Dectection/data/RAVDESS/...              normal   \n",
       "/Users/stephen/Emotion_Dectection/data/RAVDESS/...              normal   \n",
       "/Users/stephen/Emotion_Dectection/data/RAVDESS/...              normal   \n",
       "/Users/stephen/Emotion_Dectection/data/RAVDESS/...              strong   \n",
       "...                                                                ...   \n",
       "/Users/stephen/Emotion_Dectection/data/RAVDESS/...              strong   \n",
       "/Users/stephen/Emotion_Dectection/data/RAVDESS/...              normal   \n",
       "/Users/stephen/Emotion_Dectection/data/RAVDESS/...              strong   \n",
       "/Users/stephen/Emotion_Dectection/data/RAVDESS/...              normal   \n",
       "/Users/stephen/Emotion_Dectection/data/RAVDESS/...              normal   \n",
       "\n",
       "                                                                       statement  \\\n",
       "/Users/stephen/Emotion_Dectection/data/RAVDESS/...  Dogs are sitting by the door   \n",
       "/Users/stephen/Emotion_Dectection/data/RAVDESS/...  Kids are talking by the door   \n",
       "/Users/stephen/Emotion_Dectection/data/RAVDESS/...  Dogs are sitting by the door   \n",
       "/Users/stephen/Emotion_Dectection/data/RAVDESS/...  Dogs are sitting by the door   \n",
       "/Users/stephen/Emotion_Dectection/data/RAVDESS/...  Kids are talking by the door   \n",
       "...                                                                          ...   \n",
       "/Users/stephen/Emotion_Dectection/data/RAVDESS/...  Dogs are sitting by the door   \n",
       "/Users/stephen/Emotion_Dectection/data/RAVDESS/...  Kids are talking by the door   \n",
       "/Users/stephen/Emotion_Dectection/data/RAVDESS/...  Kids are talking by the door   \n",
       "/Users/stephen/Emotion_Dectection/data/RAVDESS/...  Dogs are sitting by the door   \n",
       "/Users/stephen/Emotion_Dectection/data/RAVDESS/...  Dogs are sitting by the door   \n",
       "\n",
       "                                                           repetition actor  \\\n",
       "/Users/stephen/Emotion_Dectection/data/RAVDESS/...   first_repitition    01   \n",
       "/Users/stephen/Emotion_Dectection/data/RAVDESS/...   first_repitition    01   \n",
       "/Users/stephen/Emotion_Dectection/data/RAVDESS/...   first_repitition    01   \n",
       "/Users/stephen/Emotion_Dectection/data/RAVDESS/...  second_repetition    01   \n",
       "/Users/stephen/Emotion_Dectection/data/RAVDESS/...  second_repetition    01   \n",
       "...                                                               ...   ...   \n",
       "/Users/stephen/Emotion_Dectection/data/RAVDESS/...  second_repetition    23   \n",
       "/Users/stephen/Emotion_Dectection/data/RAVDESS/...  second_repetition    23   \n",
       "/Users/stephen/Emotion_Dectection/data/RAVDESS/...   first_repitition    23   \n",
       "/Users/stephen/Emotion_Dectection/data/RAVDESS/...   first_repitition    23   \n",
       "/Users/stephen/Emotion_Dectection/data/RAVDESS/...  second_repetition    23   \n",
       "\n",
       "                                                   actor_sex  \n",
       "/Users/stephen/Emotion_Dectection/data/RAVDESS/...      male  \n",
       "/Users/stephen/Emotion_Dectection/data/RAVDESS/...      male  \n",
       "/Users/stephen/Emotion_Dectection/data/RAVDESS/...      male  \n",
       "/Users/stephen/Emotion_Dectection/data/RAVDESS/...      male  \n",
       "/Users/stephen/Emotion_Dectection/data/RAVDESS/...      male  \n",
       "...                                                      ...  \n",
       "/Users/stephen/Emotion_Dectection/data/RAVDESS/...      male  \n",
       "/Users/stephen/Emotion_Dectection/data/RAVDESS/...      male  \n",
       "/Users/stephen/Emotion_Dectection/data/RAVDESS/...      male  \n",
       "/Users/stephen/Emotion_Dectection/data/RAVDESS/...      male  \n",
       "/Users/stephen/Emotion_Dectection/data/RAVDESS/...      male  \n",
       "\n",
       "[1380 rows x 8 columns]"
      ]
     },
     "execution_count": 100,
     "metadata": {},
     "output_type": "execute_result"
    }
   ],
   "source": [
    "audio_file_dict"
   ]
  },
  {
   "cell_type": "code",
   "execution_count": 101,
   "metadata": {},
   "outputs": [
    {
     "data": {
      "image/png": "[encoded data removed]",
      "text/plain": [
       "<Figure size 864x576 with 4 Axes>"
      ]
     },
     "metadata": {
      "needs_background": "light"
     },
     "output_type": "display_data"
    }
   ],
   "source": [
    "fig, (ax1,ax2) = plt.subplots(2, 2,figsize=(12,8))\n",
    "ax1[0].barh(y=audio_file_dict.emotion.value_counts().index,width=audio_file_dict.emotion.value_counts().values)\n",
    "ax1[0].set_title('Emotion')\n",
    "ax1[1].bar(x=audio_file_dict.actor_sex.value_counts().index,height=audio_file_dict.actor_sex.value_counts().values)\n",
    "ax1[1].set_title('Actor Sex')\n",
    "ax2[0].bar(x=audio_file_dict.emotional_intensity.value_counts().index,height=audio_file_dict.emotional_intensity.value_counts().values)\n",
    "ax2[0].set_title('Emotional Intensity')\n",
    "ax2[1].bar(x=audio_file_dict.statement.value_counts().index,height=audio_file_dict.statement.value_counts().values)\n",
    "plt.xticks(rotation=45)\n",
    "ax2[1].set_title('Statement')\n",
    "fig.tight_layout() \n"
   ]
  },
  {
   "cell_type": "code",
   "execution_count": 102,
   "metadata": {},
   "outputs": [
    {
     "data": {
      "text/plain": [
       "(tensor([[0., 0., 0.,  ..., 0., 0., 0.]]), 48000)"
      ]
     },
     "execution_count": 102,
     "metadata": {},
     "output_type": "execute_result"
    }
   ],
   "source": [
    "sample1, sample_rate1 = torchaudio.load('/Users/stephen/Emotion_Dectection/data/RAVDESS/Audio_Speech_Actors_01-24/Actor_01/03-01-01-01-01-01-01.wav')\n",
    "sample1, sample_rate1"
   ]
  },
  {
   "cell_type": "code",
   "execution_count": 103,
   "metadata": {},
   "outputs": [
    {
     "data": {
      "text/plain": [
       "(tensor([[ 0.0000e+00,  0.0000e+00, -3.0518e-05,  ...,  0.0000e+00,\n",
       "           0.0000e+00,  0.0000e+00]]),\n",
       " 48000)"
      ]
     },
     "execution_count": 103,
     "metadata": {},
     "output_type": "execute_result"
    }
   ],
   "source": [
    "sample2, sample_rate2 = torchaudio.load('/Users/stephen/Emotion_Dectection/data/RAVDESS/Audio_Speech_Actors_01-24/Actor_01/03-01-01-01-01-02-01.wav')\n",
    "sample2, sample_rate2"
   ]
  },
  {
   "cell_type": "code",
   "execution_count": 104,
   "metadata": {},
   "outputs": [
    {
     "data": {
      "text/plain": [
       "torch.Size([1, 158558])"
      ]
     },
     "execution_count": 104,
     "metadata": {},
     "output_type": "execute_result"
    }
   ],
   "source": [
    "sample1.shape"
   ]
  },
  {
   "cell_type": "code",
   "execution_count": 105,
   "metadata": {},
   "outputs": [
    {
     "data": {
      "text/plain": [
       "torch.Size([1, 160160])"
      ]
     },
     "execution_count": 105,
     "metadata": {},
     "output_type": "execute_result"
    }
   ],
   "source": [
    "sample2.shape"
   ]
  },
  {
   "cell_type": "code",
   "execution_count": 106,
   "metadata": {},
   "outputs": [
    {
     "data": {
      "text/plain": [
       "[<matplotlib.lines.Line2D at 0x7fb2cb719fa0>]"
      ]
     },
     "execution_count": 106,
     "metadata": {},
     "output_type": "execute_result"
    },
    {
     "data": {
      "image/png": "[encoded data removed]",
      "text/plain": [
       "<Figure size 432x288 with 1 Axes>"
      ]
     },
     "metadata": {
      "needs_background": "light"
     },
     "output_type": "display_data"
    }
   ],
   "source": [
    "plt.plot(sample1.t().numpy())"
   ]
  },
  {
   "cell_type": "code",
   "execution_count": 107,
   "metadata": {},
   "outputs": [
    {
     "data": {
      "text/plain": [
       "(1380, 8)"
      ]
     },
     "execution_count": 107,
     "metadata": {},
     "output_type": "execute_result"
    }
   ],
   "source": [
    "audio_file_dict.shape"
   ]
  },
  {
   "cell_type": "code",
   "execution_count": 108,
   "metadata": {},
   "outputs": [
    {
     "name": "stdout",
     "output_type": "stream",
     "text": [
      "Shape of MFCC: torch.Size([1, 40, 793])\n"
     ]
    },
    {
     "name": "stderr",
     "output_type": "stream",
     "text": [
      "/Users/stephen/opt/anaconda3/envs/torch_env/lib/python3.9/site-packages/torchaudio/functional/functional.py:594: UserWarning: At least one mel filterbank has all zero values. The value for `n_mels` (128) may be set too high. Or, the value for `n_freqs` (201) may be set too low.\n",
      "  warnings.warn(\n"
     ]
    },
    {
     "data": {
      "text/plain": [
       "<matplotlib.image.AxesImage at 0x7fb2c9e54700>"
      ]
     },
     "execution_count": 108,
     "metadata": {},
     "output_type": "execute_result"
    },
    {
     "data": {
      "image/png": "[encoded data removed]",
      "text/plain": [
       "<Figure size 432x288 with 1 Axes>"
      ]
     },
     "metadata": {
      "needs_background": "light"
     },
     "output_type": "display_data"
    }
   ],
   "source": [
    "# load all audio files into a python list \n",
    "\n",
    "audio_files = []\n",
    "for i in list(audio_file_dict.index):\n",
    "    i, _ = torchaudio.load(i)\n",
    "    audio_files.append(i)\n",
    "\n",
    "\n",
    "maxlen = 0\n",
    "minlen = np.Inf\n",
    "for i in audio_files:\n",
    "    if i.shape[1]>maxlen:\n",
    "        maxlen = i.shape[1]\n",
    "    if i.shape[1]<minlen:\n",
    "        minlen = i.shape[1]\n",
    "mfcc = torchaudio.transforms.MFCC()(sample1)\n",
    "\n",
    "print(\"Shape of MFCC: {}\".format(mfcc.size()))\n",
    "\n",
    "plt.figure()\n",
    "plt.imshow(mfcc.log2()[0,:,:].numpy(), cmap='gray')\n"
   ]
  },
  {
   "cell_type": "code",
   "execution_count": 111,
   "metadata": {},
   "outputs": [
    {
     "data": {
      "text/plain": [
       "(torch.Size([1, 40, 841]), torch.Size([1, 40, 817]), torch.Size([1, 40, 841]))"
      ]
     },
     "execution_count": 111,
     "metadata": {},
     "output_type": "execute_result"
    }
   ],
   "source": [
    "mfcc_s[0].shape,mfcc_s[1].shape,mfcc_s[2].shape,\n"
   ]
  },
  {
   "cell_type": "code",
   "execution_count": 112,
   "metadata": {},
   "outputs": [],
   "source": [
    "max_width, max_height = max([i.shape[2] for i in mfcc_s]), max([i.shape[1] for i in mfcc_s])"
   ]
  },
  {
   "cell_type": "code",
   "execution_count": 114,
   "metadata": {},
   "outputs": [],
   "source": [
    "image_batch = [\n",
    "    # The needed padding is the difference between the\n",
    "    # max width/height and the image's actual width/height.\n",
    "    F.pad(img, [0, max_width - img.size(2), 0, max_height - img.size(1)])\n",
    "    for img in mfcc_s\n",
    "]"
   ]
  },
  {
   "cell_type": "code",
   "execution_count": 115,
   "metadata": {},
   "outputs": [
    {
     "data": {
      "text/plain": [
       "(torch.Size([1, 40, 1266]),\n",
       " torch.Size([1, 40, 1266]),\n",
       " torch.Size([1, 40, 1266]))"
      ]
     },
     "execution_count": 115,
     "metadata": {},
     "output_type": "execute_result"
    }
   ],
   "source": [
    "image_batch[0].shape, image_batch[1].shape, image_batch[2].shape,"
   ]
  },
  {
   "cell_type": "code",
   "execution_count": 120,
   "metadata": {},
   "outputs": [
    {
     "ename": "TypeError",
     "evalue": "Invalid shape (1266,) for image data",
     "output_type": "error",
     "traceback": [
      "\u001b[0;31m---------------------------------------------------------------------------\u001b[0m",
      "\u001b[0;31mTypeError\u001b[0m                                 Traceback (most recent call last)",
      "\u001b[0;32m/var/folders/m3/ywsrz7k170vbk8511l1h_6840000gn/T/ipykernel_48091/2869427279.py\u001b[0m in \u001b[0;36m<module>\u001b[0;34m\u001b[0m\n\u001b[0;32m----> 1\u001b[0;31m \u001b[0mplt\u001b[0m\u001b[0;34m.\u001b[0m\u001b[0mimshow\u001b[0m\u001b[0;34m(\u001b[0m\u001b[0mimage_batch\u001b[0m\u001b[0;34m[\u001b[0m\u001b[0;36m0\u001b[0m\u001b[0;34m]\u001b[0m\u001b[0;34m[\u001b[0m\u001b[0;36m0\u001b[0m\u001b[0;34m]\u001b[0m\u001b[0;34m.\u001b[0m\u001b[0mlog2\u001b[0m\u001b[0;34m(\u001b[0m\u001b[0;34m)\u001b[0m\u001b[0;34m)\u001b[0m\u001b[0;34m\u001b[0m\u001b[0;34m\u001b[0m\u001b[0m\n\u001b[0m",
      "\u001b[0;32m~/opt/anaconda3/envs/torch_env/lib/python3.9/site-packages/matplotlib/pyplot.py\u001b[0m in \u001b[0;36mimshow\u001b[0;34m(X, cmap, norm, aspect, interpolation, alpha, vmin, vmax, origin, extent, filternorm, filterrad, resample, url, data, **kwargs)\u001b[0m\n\u001b[1;32m   2901\u001b[0m         \u001b[0mfilternorm\u001b[0m\u001b[0;34m=\u001b[0m\u001b[0;32mTrue\u001b[0m\u001b[0;34m,\u001b[0m \u001b[0mfilterrad\u001b[0m\u001b[0;34m=\u001b[0m\u001b[0;36m4.0\u001b[0m\u001b[0;34m,\u001b[0m \u001b[0mresample\u001b[0m\u001b[0;34m=\u001b[0m\u001b[0;32mNone\u001b[0m\u001b[0;34m,\u001b[0m \u001b[0murl\u001b[0m\u001b[0;34m=\u001b[0m\u001b[0;32mNone\u001b[0m\u001b[0;34m,\u001b[0m\u001b[0;34m\u001b[0m\u001b[0;34m\u001b[0m\u001b[0m\n\u001b[1;32m   2902\u001b[0m         data=None, **kwargs):\n\u001b[0;32m-> 2903\u001b[0;31m     __ret = gca().imshow(\n\u001b[0m\u001b[1;32m   2904\u001b[0m         \u001b[0mX\u001b[0m\u001b[0;34m,\u001b[0m \u001b[0mcmap\u001b[0m\u001b[0;34m=\u001b[0m\u001b[0mcmap\u001b[0m\u001b[0;34m,\u001b[0m \u001b[0mnorm\u001b[0m\u001b[0;34m=\u001b[0m\u001b[0mnorm\u001b[0m\u001b[0;34m,\u001b[0m \u001b[0maspect\u001b[0m\u001b[0;34m=\u001b[0m\u001b[0maspect\u001b[0m\u001b[0;34m,\u001b[0m\u001b[0;34m\u001b[0m\u001b[0;34m\u001b[0m\u001b[0m\n\u001b[1;32m   2905\u001b[0m         \u001b[0minterpolation\u001b[0m\u001b[0;34m=\u001b[0m\u001b[0minterpolation\u001b[0m\u001b[0;34m,\u001b[0m \u001b[0malpha\u001b[0m\u001b[0;34m=\u001b[0m\u001b[0malpha\u001b[0m\u001b[0;34m,\u001b[0m \u001b[0mvmin\u001b[0m\u001b[0;34m=\u001b[0m\u001b[0mvmin\u001b[0m\u001b[0;34m,\u001b[0m\u001b[0;34m\u001b[0m\u001b[0;34m\u001b[0m\u001b[0m\n",
      "\u001b[0;32m~/opt/anaconda3/envs/torch_env/lib/python3.9/site-packages/matplotlib/__init__.py\u001b[0m in \u001b[0;36minner\u001b[0;34m(ax, data, *args, **kwargs)\u001b[0m\n\u001b[1;32m   1359\u001b[0m     \u001b[0;32mdef\u001b[0m \u001b[0minner\u001b[0m\u001b[0;34m(\u001b[0m\u001b[0max\u001b[0m\u001b[0;34m,\u001b[0m \u001b[0;34m*\u001b[0m\u001b[0margs\u001b[0m\u001b[0;34m,\u001b[0m \u001b[0mdata\u001b[0m\u001b[0;34m=\u001b[0m\u001b[0;32mNone\u001b[0m\u001b[0;34m,\u001b[0m \u001b[0;34m**\u001b[0m\u001b[0mkwargs\u001b[0m\u001b[0;34m)\u001b[0m\u001b[0;34m:\u001b[0m\u001b[0;34m\u001b[0m\u001b[0;34m\u001b[0m\u001b[0m\n\u001b[1;32m   1360\u001b[0m         \u001b[0;32mif\u001b[0m \u001b[0mdata\u001b[0m \u001b[0;32mis\u001b[0m \u001b[0;32mNone\u001b[0m\u001b[0;34m:\u001b[0m\u001b[0;34m\u001b[0m\u001b[0;34m\u001b[0m\u001b[0m\n\u001b[0;32m-> 1361\u001b[0;31m             \u001b[0;32mreturn\u001b[0m \u001b[0mfunc\u001b[0m\u001b[0;34m(\u001b[0m\u001b[0max\u001b[0m\u001b[0;34m,\u001b[0m \u001b[0;34m*\u001b[0m\u001b[0mmap\u001b[0m\u001b[0;34m(\u001b[0m\u001b[0msanitize_sequence\u001b[0m\u001b[0;34m,\u001b[0m \u001b[0margs\u001b[0m\u001b[0;34m)\u001b[0m\u001b[0;34m,\u001b[0m \u001b[0;34m**\u001b[0m\u001b[0mkwargs\u001b[0m\u001b[0;34m)\u001b[0m\u001b[0;34m\u001b[0m\u001b[0;34m\u001b[0m\u001b[0m\n\u001b[0m\u001b[1;32m   1362\u001b[0m \u001b[0;34m\u001b[0m\u001b[0m\n\u001b[1;32m   1363\u001b[0m         \u001b[0mbound\u001b[0m \u001b[0;34m=\u001b[0m \u001b[0mnew_sig\u001b[0m\u001b[0;34m.\u001b[0m\u001b[0mbind\u001b[0m\u001b[0;34m(\u001b[0m\u001b[0max\u001b[0m\u001b[0;34m,\u001b[0m \u001b[0;34m*\u001b[0m\u001b[0margs\u001b[0m\u001b[0;34m,\u001b[0m \u001b[0;34m**\u001b[0m\u001b[0mkwargs\u001b[0m\u001b[0;34m)\u001b[0m\u001b[0;34m\u001b[0m\u001b[0;34m\u001b[0m\u001b[0m\n",
      "\u001b[0;32m~/opt/anaconda3/envs/torch_env/lib/python3.9/site-packages/matplotlib/axes/_axes.py\u001b[0m in \u001b[0;36mimshow\u001b[0;34m(self, X, cmap, norm, aspect, interpolation, alpha, vmin, vmax, origin, extent, filternorm, filterrad, resample, url, **kwargs)\u001b[0m\n\u001b[1;32m   5607\u001b[0m                               resample=resample, **kwargs)\n\u001b[1;32m   5608\u001b[0m \u001b[0;34m\u001b[0m\u001b[0m\n\u001b[0;32m-> 5609\u001b[0;31m         \u001b[0mim\u001b[0m\u001b[0;34m.\u001b[0m\u001b[0mset_data\u001b[0m\u001b[0;34m(\u001b[0m\u001b[0mX\u001b[0m\u001b[0;34m)\u001b[0m\u001b[0;34m\u001b[0m\u001b[0;34m\u001b[0m\u001b[0m\n\u001b[0m\u001b[1;32m   5610\u001b[0m         \u001b[0mim\u001b[0m\u001b[0;34m.\u001b[0m\u001b[0mset_alpha\u001b[0m\u001b[0;34m(\u001b[0m\u001b[0malpha\u001b[0m\u001b[0;34m)\u001b[0m\u001b[0;34m\u001b[0m\u001b[0;34m\u001b[0m\u001b[0m\n\u001b[1;32m   5611\u001b[0m         \u001b[0;32mif\u001b[0m \u001b[0mim\u001b[0m\u001b[0;34m.\u001b[0m\u001b[0mget_clip_path\u001b[0m\u001b[0;34m(\u001b[0m\u001b[0;34m)\u001b[0m \u001b[0;32mis\u001b[0m \u001b[0;32mNone\u001b[0m\u001b[0;34m:\u001b[0m\u001b[0;34m\u001b[0m\u001b[0;34m\u001b[0m\u001b[0m\n",
      "\u001b[0;32m~/opt/anaconda3/envs/torch_env/lib/python3.9/site-packages/matplotlib/image.py\u001b[0m in \u001b[0;36mset_data\u001b[0;34m(self, A)\u001b[0m\n\u001b[1;32m    707\u001b[0m         if not (self._A.ndim == 2\n\u001b[1;32m    708\u001b[0m                 or self._A.ndim == 3 and self._A.shape[-1] in [3, 4]):\n\u001b[0;32m--> 709\u001b[0;31m             raise TypeError(\"Invalid shape {} for image data\"\n\u001b[0m\u001b[1;32m    710\u001b[0m                             .format(self._A.shape))\n\u001b[1;32m    711\u001b[0m \u001b[0;34m\u001b[0m\u001b[0m\n",
      "\u001b[0;31mTypeError\u001b[0m: Invalid shape (1266,) for image data"
     ]
    },
    {
     "data": {
      "image/png": "[encoded data removed]",
      "text/plain": [
       "<Figure size 432x288 with 1 Axes>"
      ]
     },
     "metadata": {
      "needs_background": "light"
     },
     "output_type": "display_data"
    }
   ],
   "source": [
    "plt.imshow(image_batch[0][0].log2())\n"
   ]
  },
  {
   "cell_type": "code",
   "execution_count": 117,
   "metadata": {},
   "outputs": [],
   "source": [
    "image_batch = torch.cat(image_batch,0)"
   ]
  },
  {
   "cell_type": "code",
   "execution_count": 118,
   "metadata": {},
   "outputs": [],
   "source": [
    "del audio_files, mfcc_s"
   ]
  },
  {
   "cell_type": "code",
   "execution_count": null,
   "metadata": {},
   "outputs": [],
   "source": [
    "class EmotionDataset(torch.utils.data.Dataset):\n",
    "    def __init__(self, audio_file_dict):\n",
    "        self.audio_file_dict = audio_file_dict.reset_index()\n",
    "\n",
    "    def __getitem__(self, index):\n",
    "            img = self.audio_file_dict.reset_index()['index'][index]\n",
    "            img, _ = torchaudio.load(img)\n",
    "            img = torch.mean(img, dim=0).unsqueeze(0)\n",
    "            img = torchaudio.transforms.Spectrogram()(img)\n",
    "            img = F.pad(img, [0, max_width - img.size(2), 0, max_height - img.size(1)])\n",
    "\n",
    "            label = list(pd.get_dummies(self.audio_file_dict.reset_index().emotion).iloc[index].values)\n",
    "            label = np.array(label)\n",
    "            label = torch.from_numpy(label)\n",
    "            return (img, label)\n",
    "\n",
    "    def __len__(self):\n",
    "        count = len(self.audio_file_dict)\n",
    "        return count"
   ]
  },
  {
   "cell_type": "code",
   "execution_count": null,
   "metadata": {},
   "outputs": [],
   "source": [
    "emo = EmotionDataset(audio_file_dict)"
   ]
  },
  {
   "cell_type": "code",
   "execution_count": null,
   "metadata": {},
   "outputs": [],
   "source": [
    "len(emo)"
   ]
  },
  {
   "cell_type": "code",
   "execution_count": null,
   "metadata": {},
   "outputs": [],
   "source": []
  }
 ],
 "metadata": {
  "interpreter": {
   "hash": "f3358073929bd3d27ff594bc6528257efc4213b34ba9d7c6bd240dce3a23a83d"
  },
  "kernelspec": {
   "display_name": "Python 3.9.7 64-bit ('torch_env': conda)",
   "language": "python",
   "name": "python3"
  },
  "language_info": {
   "codemirror_mode": {
    "name": "ipython",
    "version": 3
   },
   "file_extension": ".py",
   "mimetype": "text/x-python",
   "name": "python",
   "nbconvert_exporter": "python",
   "pygments_lexer": "ipython3",
   "version": "3.9.7"
  },
  "orig_nbformat": 4
 },
 "nbformat": 4,
 "nbformat_minor": 2
}
